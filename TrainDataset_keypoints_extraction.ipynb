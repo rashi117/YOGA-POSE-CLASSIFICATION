{
  "nbformat": 4,
  "nbformat_minor": 0,
  "metadata": {
    "kernelspec": {
      "language": "python",
      "display_name": "Python 3",
      "name": "python3"
    },
    "language_info": {
      "name": "python",
      "version": "3.7.10",
      "mimetype": "text/x-python",
      "codemirror_mode": {
        "name": "ipython",
        "version": 3
      },
      "pygments_lexer": "ipython3",
      "nbconvert_exporter": "python",
      "file_extension": ".py"
    },
    "colab": {
      "name": "TrainDataset_keypoints_extraction.ipynb",
      "provenance": []
    }
  },
  "cells": [
    {
      "cell_type": "markdown",
      "metadata": {
        "id": "uqc8DErUtv4F"
      },
      "source": [
        "IMPORTING THE REQUIRED PACKAGES"
      ]
    },
    {
      "cell_type": "code",
      "metadata": {
        "execution": {
          "iopub.status.busy": "2021-07-22T19:42:27.754377Z",
          "iopub.execute_input": "2021-07-22T19:42:27.754750Z",
          "iopub.status.idle": "2021-07-22T19:42:27.759447Z",
          "shell.execute_reply.started": "2021-07-22T19:42:27.754717Z",
          "shell.execute_reply": "2021-07-22T19:42:27.758279Z"
        },
        "trusted": true,
        "id": "8LWEW3FqtD0i"
      },
      "source": [
        "#pip install mediapipe"
      ],
      "execution_count": null,
      "outputs": []
    },
    {
      "cell_type": "code",
      "metadata": {
        "_uuid": "8f2839f25d086af736a60e9eeb907d3b93b6e0e5",
        "_cell_guid": "b1076dfc-b9ad-4769-8c92-a6c4dae69d19",
        "execution": {
          "iopub.status.busy": "2021-07-22T19:42:27.453234Z",
          "iopub.execute_input": "2021-07-22T19:42:27.453733Z",
          "iopub.status.idle": "2021-07-22T19:42:27.750510Z",
          "shell.execute_reply.started": "2021-07-22T19:42:27.453628Z",
          "shell.execute_reply": "2021-07-22T19:42:27.749384Z"
        },
        "trusted": true,
        "id": "t1J8eGTZtD0b"
      },
      "source": [
        "import cv2\n",
        "import mediapipe\n",
        "import os\n",
        "import pandas as pd\n",
        "import numpy as np\n",
        "import matplotlib.pyplot as plt"
      ],
      "execution_count": null,
      "outputs": []
    },
    {
      "cell_type": "code",
      "metadata": {
        "execution": {
          "iopub.status.busy": "2021-07-22T19:42:27.760913Z",
          "iopub.execute_input": "2021-07-22T19:42:27.761227Z",
          "iopub.status.idle": "2021-07-22T19:42:27.774441Z",
          "shell.execute_reply.started": "2021-07-22T19:42:27.761189Z",
          "shell.execute_reply": "2021-07-22T19:42:27.773347Z"
        },
        "trusted": true,
        "id": "lxcglJMFtD0k"
      },
      "source": [
        "#address of the folder where train dataset of images is saved (done on kaggle notebook)\n",
        "main_dir = \"../input/yogapose/Train/\""
      ],
      "execution_count": null,
      "outputs": []
    },
    {
      "cell_type": "code",
      "metadata": {
        "execution": {
          "iopub.status.busy": "2021-07-22T19:42:27.776319Z",
          "iopub.execute_input": "2021-07-22T19:42:27.776707Z",
          "iopub.status.idle": "2021-07-22T19:42:27.794128Z",
          "shell.execute_reply.started": "2021-07-22T19:42:27.776675Z",
          "shell.execute_reply": "2021-07-22T19:42:27.792899Z"
        },
        "trusted": true,
        "id": "2hWQbjpMtD0l",
        "outputId": "4e451295-56ed-46fa-d2db-34fe14218850"
      },
      "source": [
        "#creating a dictionary of all the 5 yoga poses\n",
        "DICT = {\n",
        "    \"downdog\": 0,\n",
        "    \"goddess\":1,       \n",
        "    \"plank\":2,\n",
        "    \"tree\":3,\n",
        "    \"warrior2\":4\n",
        "}\n",
        "DICT"
      ],
      "execution_count": null,
      "outputs": [
        {
          "output_type": "execute_result",
          "data": {
            "text/plain": [
              "{'downdog': 0, 'goddess': 1, 'plank': 2, 'tree': 3, 'warrior2': 4}"
            ]
          },
          "metadata": {
            "tags": []
          },
          "execution_count": 4
        }
      ]
    },
    {
      "cell_type": "code",
      "metadata": {
        "execution": {
          "iopub.status.busy": "2021-07-22T19:42:27.795524Z",
          "iopub.execute_input": "2021-07-22T19:42:27.795874Z",
          "iopub.status.idle": "2021-07-22T19:42:27.809443Z",
          "shell.execute_reply.started": "2021-07-22T19:42:27.795787Z",
          "shell.execute_reply": "2021-07-22T19:42:27.808456Z"
        },
        "trusted": true,
        "id": "tMneTcX7tD0n"
      },
      "source": [
        "#defining a method to transfer images into a dataframe \n",
        "\n",
        "def getdata(folder_path):\n",
        "\n",
        "    #making an empty dataframe which will contain image address and to which yoga pose it belongs\n",
        "    sig = pd.DataFrame(columns=['image_abs_path','image_labels'])\n",
        "    \n",
        "    for key,value in DICT.items():\n",
        "        #print(\"processing for label: {}\".format(label))\n",
        "        label_i = folder_path+\"/\"+str(key)\n",
        "        #read directory\n",
        "        dirs_label_i =  os.listdir(label_i)\n",
        "        idx = 0\n",
        "        for image in dirs_label_i:\n",
        "            #create an absolute image path\n",
        "            sig_i = os.path.join(label_i,image)\n",
        "            #print('Absolute path for image no. {} and label {}: {}'\\\n",
        "                  #.format(idx,label,flower_i))\n",
        "\n",
        "            #filling the dataframe with path and label\n",
        "            sig = sig.append({'image_abs_path':sig_i,\n",
        "                            'image_labels':key},\n",
        "                           ignore_index=True)\n",
        "            idx += 1\n",
        "            \n",
        "    return sig"
      ],
      "execution_count": null,
      "outputs": []
    },
    {
      "cell_type": "code",
      "metadata": {
        "execution": {
          "iopub.status.busy": "2021-07-22T19:42:27.810787Z",
          "iopub.execute_input": "2021-07-22T19:42:27.811431Z",
          "iopub.status.idle": "2021-07-22T19:42:30.337213Z",
          "shell.execute_reply.started": "2021-07-22T19:42:27.811365Z",
          "shell.execute_reply": "2021-07-22T19:42:30.336143Z"
        },
        "trusted": true,
        "id": "xOytMz40tD0o",
        "outputId": "e8092e14-8415-4d5b-94d5-542e803c0efd"
      },
      "source": [
        "#calling the above function \n",
        "train = getdata(main_dir)\n",
        "\n",
        "train[train[\"image_labels\"]==\"downdog\"]"
      ],
      "execution_count": null,
      "outputs": [
        {
          "output_type": "execute_result",
          "data": {
            "text/plain": [
              "                                    image_abs_path image_labels\n",
              "0    ../input/yogapose/Train//downdog/00000335.jpg      downdog\n",
              "1    ../input/yogapose/Train//downdog/00000287.png      downdog\n",
              "2    ../input/yogapose/Train//downdog/00000382.jpg      downdog\n",
              "3    ../input/yogapose/Train//downdog/00000233.jpg      downdog\n",
              "4    ../input/yogapose/Train//downdog/00000310.png      downdog\n",
              "..                                             ...          ...\n",
              "224  ../input/yogapose/Train//downdog/00000238.jpg      downdog\n",
              "225  ../input/yogapose/Train//downdog/00000151.jpg      downdog\n",
              "226  ../input/yogapose/Train//downdog/00000142.jpg      downdog\n",
              "227  ../input/yogapose/Train//downdog/00000314.jpg      downdog\n",
              "228  ../input/yogapose/Train//downdog/00000350.jpg      downdog\n",
              "\n",
              "[229 rows x 2 columns]"
            ],
            "text/html": [
              "<div>\n",
              "<style scoped>\n",
              "    .dataframe tbody tr th:only-of-type {\n",
              "        vertical-align: middle;\n",
              "    }\n",
              "\n",
              "    .dataframe tbody tr th {\n",
              "        vertical-align: top;\n",
              "    }\n",
              "\n",
              "    .dataframe thead th {\n",
              "        text-align: right;\n",
              "    }\n",
              "</style>\n",
              "<table border=\"1\" class=\"dataframe\">\n",
              "  <thead>\n",
              "    <tr style=\"text-align: right;\">\n",
              "      <th></th>\n",
              "      <th>image_abs_path</th>\n",
              "      <th>image_labels</th>\n",
              "    </tr>\n",
              "  </thead>\n",
              "  <tbody>\n",
              "    <tr>\n",
              "      <th>0</th>\n",
              "      <td>../input/yogapose/Train//downdog/00000335.jpg</td>\n",
              "      <td>downdog</td>\n",
              "    </tr>\n",
              "    <tr>\n",
              "      <th>1</th>\n",
              "      <td>../input/yogapose/Train//downdog/00000287.png</td>\n",
              "      <td>downdog</td>\n",
              "    </tr>\n",
              "    <tr>\n",
              "      <th>2</th>\n",
              "      <td>../input/yogapose/Train//downdog/00000382.jpg</td>\n",
              "      <td>downdog</td>\n",
              "    </tr>\n",
              "    <tr>\n",
              "      <th>3</th>\n",
              "      <td>../input/yogapose/Train//downdog/00000233.jpg</td>\n",
              "      <td>downdog</td>\n",
              "    </tr>\n",
              "    <tr>\n",
              "      <th>4</th>\n",
              "      <td>../input/yogapose/Train//downdog/00000310.png</td>\n",
              "      <td>downdog</td>\n",
              "    </tr>\n",
              "    <tr>\n",
              "      <th>...</th>\n",
              "      <td>...</td>\n",
              "      <td>...</td>\n",
              "    </tr>\n",
              "    <tr>\n",
              "      <th>224</th>\n",
              "      <td>../input/yogapose/Train//downdog/00000238.jpg</td>\n",
              "      <td>downdog</td>\n",
              "    </tr>\n",
              "    <tr>\n",
              "      <th>225</th>\n",
              "      <td>../input/yogapose/Train//downdog/00000151.jpg</td>\n",
              "      <td>downdog</td>\n",
              "    </tr>\n",
              "    <tr>\n",
              "      <th>226</th>\n",
              "      <td>../input/yogapose/Train//downdog/00000142.jpg</td>\n",
              "      <td>downdog</td>\n",
              "    </tr>\n",
              "    <tr>\n",
              "      <th>227</th>\n",
              "      <td>../input/yogapose/Train//downdog/00000314.jpg</td>\n",
              "      <td>downdog</td>\n",
              "    </tr>\n",
              "    <tr>\n",
              "      <th>228</th>\n",
              "      <td>../input/yogapose/Train//downdog/00000350.jpg</td>\n",
              "      <td>downdog</td>\n",
              "    </tr>\n",
              "  </tbody>\n",
              "</table>\n",
              "<p>229 rows × 2 columns</p>\n",
              "</div>"
            ]
          },
          "metadata": {
            "tags": []
          },
          "execution_count": 6
        }
      ]
    },
    {
      "cell_type": "code",
      "metadata": {
        "execution": {
          "iopub.status.busy": "2021-07-22T19:42:30.338690Z",
          "iopub.execute_input": "2021-07-22T19:42:30.339004Z",
          "iopub.status.idle": "2021-07-22T19:42:30.345792Z",
          "shell.execute_reply.started": "2021-07-22T19:42:30.338976Z",
          "shell.execute_reply": "2021-07-22T19:42:30.344538Z"
        },
        "trusted": true,
        "id": "bc0LUTWntD0q"
      },
      "source": [
        "#method to retrive the keypoints for each image and storing it to its respective csv file based on the yoga pose it belongs to. \n",
        "def getKeyPts(imgpath):\n",
        "      \n",
        "       modelPose = mediapipe.solutions.pose\n",
        "       #mpDraw = mediapipe.solutions.drawing_utils\n",
        "\n",
        "       pose = modelPose.Pose()\n",
        "       mp_holistic = mediapipe.solutions.holistic\n",
        "      \n",
        "       img = cv2.imread(imgpath)  \n",
        "       frameRGB = cv2.cvtColor(img,cv2.COLOR_BGR2RGB)\n",
        "       results = pose.process(frameRGB)\n",
        "\n",
        "       return results.pose_landmarks"
      ],
      "execution_count": null,
      "outputs": []
    },
    {
      "cell_type": "code",
      "metadata": {
        "execution": {
          "iopub.status.busy": "2021-07-22T19:42:30.347729Z",
          "iopub.execute_input": "2021-07-22T19:42:30.348069Z",
          "iopub.status.idle": "2021-07-22T19:42:30.368758Z",
          "shell.execute_reply.started": "2021-07-22T19:42:30.348036Z",
          "shell.execute_reply": "2021-07-22T19:42:30.367760Z"
        },
        "trusted": true,
        "id": "RHkcoS-3tD0s"
      },
      "source": [
        "#listing index of all the keypoints that are being extracted from above method\n",
        "key_points = ['Nose','Left_eye_inner','Left_eye','Left_eye_outer','right_eye_inner',\n",
        "              'right_eye','right_eye_outer','left_ear','right_ear','mouth_left',\n",
        "              'mouth_right','lef_shoulder','right_shoulder','lef_elbow','right_elbow',\n",
        "              'left_wrist','right_wrist','left_pinky','right_pinky','left_index',\n",
        "              'right_index','left_thumb','right_thumb','left_hip','right_hip',\n",
        "              'left_knee','right_knee','left_ankle','right_ankle',\n",
        "              'left_heel','right_heel','left_foot_index','right_foot_index']"
      ],
      "execution_count": null,
      "outputs": []
    },
    {
      "cell_type": "code",
      "metadata": {
        "execution": {
          "iopub.status.busy": "2021-07-22T19:42:34.318365Z",
          "iopub.execute_input": "2021-07-22T19:42:34.319013Z",
          "iopub.status.idle": "2021-07-22T19:42:34.329242Z",
          "shell.execute_reply.started": "2021-07-22T19:42:34.318973Z",
          "shell.execute_reply": "2021-07-22T19:42:34.328463Z"
        },
        "trusted": true,
        "id": "tyVigPXltD0u"
      },
      "source": [
        "#main method to save all keypoints of each pimage in respective csv files\n",
        "#since kaggle was reaching its max memory limit while processing the images so had to set the limit\n",
        "\n",
        "def yoga(pose,limit):\n",
        "\n",
        "    global key_points,DICT\n",
        "    counter = 0\n",
        "    header = {\"pose\":[]}\n",
        "    for key_point in key_points:\n",
        "        header['{} x'.format(key_point)] = []\n",
        "        header['{} y'.format(key_point)] = []\n",
        "        \n",
        "    ################################################\n",
        "    #looping for every pose and filering the images for that pose\n",
        "    for pose in [pose]:\n",
        "        df = pd.DataFrame(header)\n",
        "        print('Generating results for {}'.format(pose))\n",
        "        filtrdata = train[train[\"image_labels\"]==pose]\n",
        "\n",
        "    ##################################################\n",
        "        #after getting all the images for 1 pose calling the getkeyPts on each image \n",
        "        for row in filtrdata['image_abs_path']:\n",
        "            if counter <= limit:\n",
        "                print(f\"Count {counter} : {row}\")\n",
        "\n",
        "                keypoints = getKeyPts(row)\n",
        "                new_row = pd.DataFrame(header)\n",
        "                #using try & exeption block so if the keypoint cannot be detected it doesnt throw an error instead print the error and continue\n",
        "                try:\n",
        "                    for id,keyPts in enumerate(keypoints.landmark):\n",
        "                        #print(id,keyPts)\n",
        "                        #extracting only the x and y coordinates of each keypoint on the image and\n",
        "                        cx,cy = (keyPts.x*1),(keyPts.y*1)\n",
        "                        #print(f\"({cx},{cy}) for {id}\")\n",
        "                        #print(key_points[id])\n",
        "                        #print(f\"({cx},{cy})\")\n",
        "                        #saving the x and y coords in the new row datadrame\n",
        "                        new_row['{} x'.format(key_points[id])] = [cx]\n",
        "                        new_row['{} y'.format(key_points[id])] = [cy]\n",
        "                        #print(new_row)\n",
        "                    #appending the pose the image belongs to at the end of each row\n",
        "                    new_row['pose'] = pose\n",
        "\n",
        "                    #appending each new_row df to final dataframe of that yoga pose\n",
        "                    df = df.append(new_row, ignore_index=True)\n",
        "                    #print(df)\n",
        "                    counter += 1\n",
        "\n",
        "                except Exception as e:\n",
        "                    print('Exception on {}! {}'.format(row, e))\n",
        "            else:\n",
        "                continue\n",
        "        print(\"Saving csv file.....\")\n",
        "        \n",
        "        #saving the data frame to csv for each pose\n",
        "        df.to_csv('{}.csv'.format(pose))\n",
        "        counter = 0"
      ],
      "execution_count": null,
      "outputs": []
    },
    {
      "cell_type": "code",
      "metadata": {
        "execution": {
          "iopub.status.busy": "2021-07-22T19:36:27.135644Z",
          "iopub.execute_input": "2021-07-22T19:36:27.135992Z",
          "iopub.status.idle": "2021-07-22T19:36:39.422573Z",
          "shell.execute_reply.started": "2021-07-22T19:36:27.135930Z",
          "shell.execute_reply": "2021-07-22T19:36:39.421499Z"
        },
        "trusted": true,
        "id": "_K7sfiAEtD0w",
        "outputId": "ea07bc8f-89ff-48f1-9cd0-7d4b347e6f4f"
      },
      "source": [
        "yoga(pose=\"downdog\",limit=50)"
      ],
      "execution_count": null,
      "outputs": [
        {
          "output_type": "stream",
          "text": [
            "Generating results for downdog\n",
            "Count 0 : ../input/yogapose/Train//downdog/00000335.jpg\n",
            "Count 1 : ../input/yogapose/Train//downdog/00000287.png\n",
            "Count 2 : ../input/yogapose/Train//downdog/00000382.jpg\n",
            "Count 3 : ../input/yogapose/Train//downdog/00000233.jpg\n",
            "Count 4 : ../input/yogapose/Train//downdog/00000310.png\n",
            "Count 5 : ../input/yogapose/Train//downdog/00000387.jpg\n",
            "Exception on ../input/yogapose/Train//downdog/00000387.jpg! 'NoneType' object has no attribute 'landmark'\n",
            "Count 5 : ../input/yogapose/Train//downdog/00000309.jpg\n",
            "Count 6 : ../input/yogapose/Train//downdog/00000277.jpg\n",
            "Count 7 : ../input/yogapose/Train//downdog/00000325.jpg\n",
            "Count 8 : ../input/yogapose/Train//downdog/00000147.jpg\n",
            "Exception on ../input/yogapose/Train//downdog/00000147.jpg! 'NoneType' object has no attribute 'landmark'\n",
            "Count 8 : ../input/yogapose/Train//downdog/00000236.JPG\n",
            "Count 9 : ../input/yogapose/Train//downdog/00000366.png\n",
            "Count 10 : ../input/yogapose/Train//downdog/00000199.jpg\n",
            "Count 11 : ../input/yogapose/Train//downdog/00000408.jpg\n",
            "Count 12 : ../input/yogapose/Train//downdog/00000129.jpg\n",
            "Count 13 : ../input/yogapose/Train//downdog/00000221.jpg\n",
            "Exception on ../input/yogapose/Train//downdog/00000221.jpg! 'NoneType' object has no attribute 'landmark'\n",
            "Count 13 : ../input/yogapose/Train//downdog/00000284.jpg\n",
            "Count 14 : ../input/yogapose/Train//downdog/00000352.png\n",
            "Count 15 : ../input/yogapose/Train//downdog/00000415.jpg\n",
            "Count 16 : ../input/yogapose/Train//downdog/00000326.jpg\n",
            "Count 17 : ../input/yogapose/Train//downdog/00000270.jpg\n",
            "Exception on ../input/yogapose/Train//downdog/00000270.jpg! 'NoneType' object has no attribute 'landmark'\n",
            "Count 17 : ../input/yogapose/Train//downdog/00000152.jpg\n",
            "Count 18 : ../input/yogapose/Train//downdog/00000204.jpg\n",
            "Count 19 : ../input/yogapose/Train//downdog/00000341.jpg\n",
            "Count 20 : ../input/yogapose/Train//downdog/00000332.jpg\n",
            "Count 21 : ../input/yogapose/Train//downdog/00000215.jpg\n",
            "Count 22 : ../input/yogapose/Train//downdog/00000303.jpg\n",
            "Count 23 : ../input/yogapose/Train//downdog/00000425.jpg\n",
            "Count 24 : ../input/yogapose/Train//downdog/00000370.jpg\n",
            "Count 25 : ../input/yogapose/Train//downdog/00000334.jpg\n",
            "Count 26 : ../input/yogapose/Train//downdog/00000414.jpg\n",
            "Count 27 : ../input/yogapose/Train//downdog/00000128.jpg\n",
            "Count 28 : ../input/yogapose/Train//downdog/00000348.jpg\n",
            "Count 29 : ../input/yogapose/Train//downdog/00000323(1).jpg\n",
            "Count 30 : ../input/yogapose/Train//downdog/00000164.jpg\n",
            "Count 31 : ../input/yogapose/Train//downdog/00000279.jpg\n",
            "Count 32 : ../input/yogapose/Train//downdog/00000208.jpg\n",
            "Count 33 : ../input/yogapose/Train//downdog/00000417.jpg\n",
            "Count 34 : ../input/yogapose/Train//downdog/00000245.png\n",
            "Count 35 : ../input/yogapose/Train//downdog/00000144.jpg\n",
            "Count 36 : ../input/yogapose/Train//downdog/00000328.jpg\n",
            "Count 37 : ../input/yogapose/Train//downdog/00000315.jpg\n",
            "Count 38 : ../input/yogapose/Train//downdog/00000220.jpg\n",
            "Exception on ../input/yogapose/Train//downdog/00000220.jpg! 'NoneType' object has no attribute 'landmark'\n",
            "Count 38 : ../input/yogapose/Train//downdog/00000305.png\n",
            "Count 39 : ../input/yogapose/Train//downdog/00000133.jpg\n",
            "Count 40 : ../input/yogapose/Train//downdog/00000420.jpg\n",
            "Count 41 : ../input/yogapose/Train//downdog/00000345.png\n",
            "Count 42 : ../input/yogapose/Train//downdog/00000349.png\n",
            "Count 43 : ../input/yogapose/Train//downdog/00000299.jpg\n",
            "Count 44 : ../input/yogapose/Train//downdog/00000255.jpg\n",
            "Count 45 : ../input/yogapose/Train//downdog/00000156.jpg\n",
            "Count 46 : ../input/yogapose/Train//downdog/00000154.jpg\n",
            "Count 47 : ../input/yogapose/Train//downdog/00000351.png\n",
            "Count 48 : ../input/yogapose/Train//downdog/00000131.jpg\n",
            "Count 49 : ../input/yogapose/Train//downdog/00000393.jpg\n",
            "Count 50 : ../input/yogapose/Train//downdog/00000281.jpg\n",
            "Exception on ../input/yogapose/Train//downdog/00000281.jpg! 'NoneType' object has no attribute 'landmark'\n",
            "Count 50 : ../input/yogapose/Train//downdog/00000240.jpg\n",
            "Saving csv file.....\n"
          ],
          "name": "stdout"
        }
      ]
    },
    {
      "cell_type": "code",
      "metadata": {
        "execution": {
          "iopub.status.busy": "2021-07-22T19:40:30.705666Z",
          "iopub.execute_input": "2021-07-22T19:40:30.706284Z"
        },
        "jupyter": {
          "outputs_hidden": true
        },
        "trusted": true,
        "id": "3D69-dnbtD0y",
        "outputId": "fea3cd0d-bc58-485e-be91-b6a1d2bef4d8"
      },
      "source": [
        "pose = [x for x,y in DICT.items()]\n",
        "for i in range(1,len(pose)):\n",
        "    yoga(pose=pose[i],limit=50)"
      ],
      "execution_count": null,
      "outputs": [
        {
          "output_type": "stream",
          "text": [
            "Generating results for goddess\n",
            "Count 0 : ../input/yogapose/Train//goddess/00000113.jpg\n",
            "Count 1 : ../input/yogapose/Train//goddess/00000115.jpg\n",
            "Count 2 : ../input/yogapose/Train//goddess/00000233.jpg\n",
            "Count 3 : ../input/yogapose/Train//goddess/00000336.jpg\n",
            "Count 4 : ../input/yogapose/Train//goddess/00000325.jpg\n",
            "Count 5 : ../input/yogapose/Train//goddess/00000211.jpg\n",
            "Count 6 : ../input/yogapose/Train//goddess/00000278.png\n",
            "Count 7 : ../input/yogapose/Train//goddess/00000129.jpg\n",
            "Count 8 : ../input/yogapose/Train//goddess/00000302.jpg\n",
            "Count 9 : ../input/yogapose/Train//goddess/00000105.jpg\n",
            "Count 10 : ../input/yogapose/Train//goddess/00000270.jpg\n",
            "Count 11 : ../input/yogapose/Train//goddess/00000212.jpg\n",
            "Count 12 : ../input/yogapose/Train//goddess/00000228.jpg\n",
            "Exception on ../input/yogapose/Train//goddess/00000228.jpg! 'NoneType' object has no attribute 'landmark'\n",
            "Count 12 : ../input/yogapose/Train//goddess/00000369.jpg\n",
            "Count 13 : ../input/yogapose/Train//goddess/00000303.jpg\n",
            "Count 14 : ../input/yogapose/Train//goddess/00000370.jpg\n",
            "Count 15 : ../input/yogapose/Train//goddess/00000296.jpg\n",
            "Count 16 : ../input/yogapose/Train//goddess/00000125.jpg\n",
            "Count 17 : ../input/yogapose/Train//goddess/00000128.jpg\n",
            "Count 18 : ../input/yogapose/Train//goddess/00000348.jpg\n",
            "Count 19 : ../input/yogapose/Train//goddess/00000207.jpg\n",
            "Count 20 : ../input/yogapose/Train//goddess/00000135.jpeg\n",
            "Count 21 : ../input/yogapose/Train//goddess/00000272.png\n",
            "Exception on ../input/yogapose/Train//goddess/00000272.png! 'NoneType' object has no attribute 'landmark'\n",
            "Count 21 : ../input/yogapose/Train//goddess/00000193.png\n",
            "Exception on ../input/yogapose/Train//goddess/00000193.png! 'NoneType' object has no attribute 'landmark'\n",
            "Count 21 : ../input/yogapose/Train//goddess/00000164.jpg\n",
            "Count 22 : ../input/yogapose/Train//goddess/00000289.png\n",
            "Count 23 : ../input/yogapose/Train//goddess/00000242.jpg\n",
            "Exception on ../input/yogapose/Train//goddess/00000242.jpg! 'NoneType' object has no attribute 'landmark'\n",
            "Count 23 : ../input/yogapose/Train//goddess/00000385.jpg\n",
            "Count 24 : ../input/yogapose/Train//goddess/00000361.jpg\n",
            "Count 25 : ../input/yogapose/Train//goddess/00000102.jpg\n",
            "Count 26 : ../input/yogapose/Train//goddess/00000255.jpg\n",
            "Count 27 : ../input/yogapose/Train//goddess/00000154.jpg\n",
            "Count 28 : ../input/yogapose/Train//goddess/00000262.jpg\n",
            "Count 29 : ../input/yogapose/Train//goddess/00000126.JPG\n",
            "Count 30 : ../input/yogapose/Train//goddess/00000281.jpg\n",
            "Count 31 : ../input/yogapose/Train//goddess/00000217.jpg\n",
            "Count 32 : ../input/yogapose/Train//goddess/00000298.jpg\n",
            "Count 33 : ../input/yogapose/Train//goddess/00000177.jpg\n",
            "Count 34 : ../input/yogapose/Train//goddess/00000114.jpg\n",
            "Count 35 : ../input/yogapose/Train//goddess/00000160.jpg\n",
            "Count 36 : ../input/yogapose/Train//goddess/00000230.jpg\n",
            "Count 37 : ../input/yogapose/Train//goddess/00000261.png\n",
            "Exception on ../input/yogapose/Train//goddess/00000261.png! 'NoneType' object has no attribute 'landmark'\n",
            "Count 37 : ../input/yogapose/Train//goddess/00000184.jpg\n",
            "Count 38 : ../input/yogapose/Train//goddess/00000183.jpg\n",
            "Count 39 : ../input/yogapose/Train//goddess/00000202.jpg\n",
            "Count 40 : ../input/yogapose/Train//goddess/00000245.jpg\n",
            "Count 41 : ../input/yogapose/Train//goddess/00000235.jpg\n",
            "Count 42 : ../input/yogapose/Train//goddess/00000320.jpg\n",
            "Count 43 : ../input/yogapose/Train//goddess/00000127.png\n",
            "Exception on ../input/yogapose/Train//goddess/00000127.png! 'NoneType' object has no attribute 'landmark'\n",
            "Count 43 : ../input/yogapose/Train//goddess/00000130.jpg\n",
            "Count 44 : ../input/yogapose/Train//goddess/00000157.png\n",
            "Count 45 : ../input/yogapose/Train//goddess/00000355.jpg\n",
            "Count 46 : ../input/yogapose/Train//goddess/00000163.jpg\n",
            "Count 47 : ../input/yogapose/Train//goddess/00000209.jpg\n",
            "Count 48 : ../input/yogapose/Train//goddess/00000132.jpg\n",
            "Count 49 : ../input/yogapose/Train//goddess/00000395.jpg\n",
            "Count 50 : ../input/yogapose/Train//goddess/00000117.jpg\n",
            "Saving csv file.....\n",
            "Generating results for plank\n",
            "Count 0 : ../input/yogapose/Train//plank/00000399.jpg\n",
            "Count 1 : ../input/yogapose/Train//plank/00000390.jpg\n",
            "Count 2 : ../input/yogapose/Train//plank/00000335.jpg\n",
            "Count 3 : ../input/yogapose/Train//plank/00000233.jpg\n",
            "Count 4 : ../input/yogapose/Train//plank/00000429.jpg\n",
            "Count 5 : ../input/yogapose/Train//plank/00000437.jpg\n",
            "Count 6 : ../input/yogapose/Train//plank/00000336.jpg\n",
            "Exception on ../input/yogapose/Train//plank/00000336.jpg! 'NoneType' object has no attribute 'landmark'\n",
            "Count 6 : ../input/yogapose/Train//plank/00000309.jpg\n",
            "Count 7 : ../input/yogapose/Train//plank/00000277.jpg\n",
            "Count 8 : ../input/yogapose/Train//plank/00000325.jpg\n",
            "Count 9 : ../input/yogapose/Train//plank/00000253.jpg\n",
            "Count 10 : ../input/yogapose/Train//plank/00000209.jpeg\n",
            "Count 11 : ../input/yogapose/Train//plank/00000199.JPG\n",
            "Count 12 : ../input/yogapose/Train//plank/00000408.jpg\n",
            "Count 13 : ../input/yogapose/Train//plank/00000129.jpg\n",
            "Count 14 : ../input/yogapose/Train//plank/00000221.jpg\n",
            "Count 15 : ../input/yogapose/Train//plank/00000302.jpg\n",
            "Count 16 : ../input/yogapose/Train//plank/00000415.jpg\n",
            "Count 17 : ../input/yogapose/Train//plank/00000326.jpg\n",
            "Count 18 : ../input/yogapose/Train//plank/00000270.jpg\n",
            "Count 19 : ../input/yogapose/Train//plank/00000294.png\n",
            "Count 20 : ../input/yogapose/Train//plank/00000212.jpg\n",
            "Count 21 : ../input/yogapose/Train//plank/00000381.jpg\n",
            "Count 22 : ../input/yogapose/Train//plank/00000413.jpg\n",
            "Count 23 : ../input/yogapose/Train//plank/00000341.jpg\n",
            "Count 24 : ../input/yogapose/Train//plank/00000369.jpg\n",
            "Count 25 : ../input/yogapose/Train//plank/00000332.jpg\n",
            "Count 26 : ../input/yogapose/Train//plank/00000215.jpg\n",
            "Count 27 : ../input/yogapose/Train//plank/00000303.jpg\n",
            "Count 28 : ../input/yogapose/Train//plank/00000311.jpg\n",
            "Count 29 : ../input/yogapose/Train//plank/00000359.JPG\n",
            "Count 30 : ../input/yogapose/Train//plank/00000136.png\n",
            "Count 31 : ../input/yogapose/Train//plank/00000256.jpg\n",
            "Count 32 : ../input/yogapose/Train//plank/00000307.png\n",
            "Count 33 : ../input/yogapose/Train//plank/00000179.png\n",
            "Count 34 : ../input/yogapose/Train//plank/00000296.jpg\n",
            "Count 35 : ../input/yogapose/Train//plank/00000414.jpg\n",
            "Count 36 : ../input/yogapose/Train//plank/00000128.jpg\n",
            "Count 37 : ../input/yogapose/Train//plank/00000348.jpg\n",
            "Count 38 : ../input/yogapose/Train//plank/00000207.jpg\n",
            "Count 39 : ../input/yogapose/Train//plank/00000242.jpg\n",
            "Count 40 : ../input/yogapose/Train//plank/00000385.jpg\n",
            "Count 41 : ../input/yogapose/Train//plank/00000279.jpg\n",
            "Count 42 : ../input/yogapose/Train//plank/00000361.jpg\n",
            "Count 43 : ../input/yogapose/Train//plank/00000208.jpg\n",
            "Count 44 : ../input/yogapose/Train//plank/00000417.jpg\n",
            "Count 45 : ../input/yogapose/Train//plank/00000245.png\n",
            "Count 46 : ../input/yogapose/Train//plank/00000144.jpg\n",
            "Count 47 : ../input/yogapose/Train//plank/00000328.jpg\n",
            "Count 48 : ../input/yogapose/Train//plank/00000315.jpg\n",
            "Count 49 : ../input/yogapose/Train//plank/00000193.jpg\n",
            "Count 50 : ../input/yogapose/Train//plank/00000220.jpg\n",
            "Saving csv file.....\n",
            "Generating results for tree\n",
            "Count 0 : ../input/yogapose/Train//tree/File18.jpg\n",
            "Count 1 : ../input/yogapose/Train//tree/00000080.jpg\n",
            "Count 2 : ../input/yogapose/Train//tree/00000127.jpg\n",
            "Count 3 : ../input/yogapose/Train//tree/00000145.png\n",
            "Count 4 : ../input/yogapose/Train//tree/00000113.jpg\n",
            "Count 5 : ../input/yogapose/Train//tree/00000115.jpg\n",
            "Count 6 : ../input/yogapose/Train//tree/File45.jpg\n"
          ],
          "name": "stdout"
        }
      ]
    },
    {
      "cell_type": "code",
      "metadata": {
        "execution": {
          "iopub.status.busy": "2021-07-22T19:43:17.109197Z",
          "iopub.execute_input": "2021-07-22T19:43:17.109753Z",
          "iopub.status.idle": "2021-07-22T19:43:28.347243Z",
          "shell.execute_reply.started": "2021-07-22T19:43:17.109718Z",
          "shell.execute_reply": "2021-07-22T19:43:28.345769Z"
        },
        "trusted": true,
        "id": "O1j0-O3CtD00",
        "outputId": "15d34431-1d5d-4253-96b7-f887590ad3f9"
      },
      "source": [
        "yoga(pose=\"warrior2\",limit=50)"
      ],
      "execution_count": null,
      "outputs": [
        {
          "output_type": "stream",
          "text": [
            "Generating results for warrior2\n",
            "Count 0 : ../input/yogapose/Train//warrior2/00000390.jpg\n",
            "Count 1 : ../input/yogapose/Train//warrior2/00000127.jpg\n",
            "Count 2 : ../input/yogapose/Train//warrior2/00000335.jpg\n",
            "Count 3 : ../input/yogapose/Train//warrior2/00000287.png\n",
            "Count 4 : ../input/yogapose/Train//warrior2/00000382.jpg\n",
            "Count 5 : ../input/yogapose/Train//warrior2/00000233.jpg\n",
            "Count 6 : ../input/yogapose/Train//warrior2/00000429.jpg\n",
            "Count 7 : ../input/yogapose/Train//warrior2/00000437.jpg\n",
            "Count 8 : ../input/yogapose/Train//warrior2/00000336.jpg\n",
            "Count 9 : ../input/yogapose/Train//warrior2/00000387.jpg\n",
            "Count 10 : ../input/yogapose/Train//warrior2/00000309.jpg\n",
            "Count 11 : ../input/yogapose/Train//warrior2/00000325.jpg\n",
            "Count 12 : ../input/yogapose/Train//warrior2/00000253.jpg\n",
            "Count 13 : ../input/yogapose/Train//warrior2/00000211.jpg\n",
            "Count 14 : ../input/yogapose/Train//warrior2/00000267.jpg\n",
            "Count 15 : ../input/yogapose/Train//warrior2/00000147.jpg\n",
            "Count 16 : ../input/yogapose/Train//warrior2/00000236.jpg\n",
            "Count 17 : ../input/yogapose/Train//warrior2/00000199.jpg\n",
            "Count 18 : ../input/yogapose/Train//warrior2/00000351.jpg\n",
            "Count 19 : ../input/yogapose/Train//warrior2/00000408.jpg\n",
            "Count 20 : ../input/yogapose/Train//warrior2/00000129.jpg\n",
            "Count 21 : ../input/yogapose/Train//warrior2/00000221.jpg\n",
            "Count 22 : ../input/yogapose/Train//warrior2/00000284.jpg\n",
            "Count 23 : ../input/yogapose/Train//warrior2/00000302.jpg\n",
            "Count 24 : ../input/yogapose/Train//warrior2/00000326.jpg\n",
            "Exception on ../input/yogapose/Train//warrior2/00000326.jpg! 'NoneType' object has no attribute 'landmark'\n",
            "Count 24 : ../input/yogapose/Train//warrior2/00000270.jpg\n",
            "Count 25 : ../input/yogapose/Train//warrior2/00000141.jpg\n",
            "Count 26 : ../input/yogapose/Train//warrior2/00000204.jpg\n",
            "Count 27 : ../input/yogapose/Train//warrior2/00000212.jpg\n",
            "Count 28 : ../input/yogapose/Train//warrior2/00000381.jpg\n",
            "Count 29 : ../input/yogapose/Train//warrior2/00000413.jpg\n",
            "Count 30 : ../input/yogapose/Train//warrior2/00000341.jpg\n",
            "Count 31 : ../input/yogapose/Train//warrior2/00000369.jpg\n",
            "Count 32 : ../input/yogapose/Train//warrior2/00000332.jpg\n",
            "Count 33 : ../input/yogapose/Train//warrior2/00000215.jpg\n",
            "Count 34 : ../input/yogapose/Train//warrior2/00000303.jpg\n",
            "Count 35 : ../input/yogapose/Train//warrior2/00000311.jpg\n",
            "Count 36 : ../input/yogapose/Train//warrior2/00000359.jpg\n",
            "Count 37 : ../input/yogapose/Train//warrior2/00000256.jpg\n",
            "Count 38 : ../input/yogapose/Train//warrior2/00000425.jpg\n",
            "Count 39 : ../input/yogapose/Train//warrior2/00000370.jpg\n",
            "Count 40 : ../input/yogapose/Train//warrior2/00000296.jpg\n",
            "Count 41 : ../input/yogapose/Train//warrior2/00000334.jpg\n",
            "Count 42 : ../input/yogapose/Train//warrior2/00000414.jpg\n",
            "Count 43 : ../input/yogapose/Train//warrior2/00000125.jpg\n",
            "Count 44 : ../input/yogapose/Train//warrior2/00000348.jpg\n",
            "Count 45 : ../input/yogapose/Train//warrior2/00000385.jpg\n",
            "Count 46 : ../input/yogapose/Train//warrior2/00000279.jpg\n",
            "Count 47 : ../input/yogapose/Train//warrior2/00000361.jpg\n",
            "Count 48 : ../input/yogapose/Train//warrior2/00000208.jpg\n",
            "Count 49 : ../input/yogapose/Train//warrior2/00000328.jpg\n",
            "Count 50 : ../input/yogapose/Train//warrior2/00000315.jpg\n",
            "Saving csv file.....\n"
          ],
          "name": "stdout"
        }
      ]
    },
    {
      "cell_type": "code",
      "metadata": {
        "id": "429_sDaVtD01"
      },
      "source": [
        ""
      ],
      "execution_count": null,
      "outputs": []
    }
  ]
}