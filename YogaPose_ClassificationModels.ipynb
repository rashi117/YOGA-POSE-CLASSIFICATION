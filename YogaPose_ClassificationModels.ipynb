{
 "cells": [
  {
   "cell_type": "markdown",
   "id": "9c3fc1f1",
   "metadata": {},
   "source": [
    "IMPORTING REQUIRED PACKAGES"
   ]
  },
  {
   "cell_type": "code",
   "execution_count": 3,
   "id": "8e481a9a",
   "metadata": {},
   "outputs": [],
   "source": [
    "#import cv2\n",
    "#import mediapipe\n",
    "import os\n",
    "import pandas as pd\n",
    "import numpy as np\n",
    "import matplotlib.pyplot as plt\n",
    "import os\n",
    "import glob\n",
    "\n",
    "from sklearn.model_selection import train_test_split\n",
    "from sklearn.preprocessing import StandardScaler\n",
    "from sklearn.svm import SVC\n",
    "from sklearn.ensemble import RandomForestClassifier\n",
    "from sklearn import metrics\n",
    "from sklearn.metrics import classification_report\n",
    "from sklearn.model_selection import GridSearchCV\n"
   ]
  },
  {
   "cell_type": "code",
   "execution_count": 1,
   "id": "d8201730",
   "metadata": {},
   "outputs": [
    {
     "data": {
      "text/plain": [
       "{'downdog': 0, 'goddess': 1, 'plank': 2, 'tree': 3, 'warrior2': 4}"
      ]
     },
     "execution_count": 1,
     "metadata": {},
     "output_type": "execute_result"
    }
   ],
   "source": [
    "#creating a dictionary of all the 5 yoga poses\n",
    "\n",
    "POSE_DICT = {\n",
    "    \"downdog\": 0,\n",
    "    \"goddess\":1,       \n",
    "    \"plank\":2,\n",
    "    \"tree\":3,\n",
    "    \"warrior2\":4\n",
    "}\n",
    "POSE_DICT\n",
    "\n"
   ]
  },
  {
   "cell_type": "code",
   "execution_count": 2,
   "id": "4cb6d120",
   "metadata": {},
   "outputs": [],
   "source": [
    "#creating a list of all the keypoints extracted (33)\n",
    "\n",
    "key_points = ['Nose','Left_eye_inner','Left_eye','Left_eye_outer','right_eye_inner',\n",
    "              'right_eye','right_eye_outer','left_ear','right_ear','mouth_left',\n",
    "              'mouth_right','lef_shoulder','right_shoulder','lef_elbow','right_elbow',\n",
    "              'left_wrist','right_wrist','left_pinky','right_pinky','left_index',\n",
    "              'right_index','left_thumb','right_thumb','left_hip','right_hip',\n",
    "              'left_knee','right_knee','left_ankle','right_ankle',\n",
    "              'left_heel','right_heel','left_foot_index','right_foot_index']"
   ]
  },
  {
   "cell_type": "code",
   "execution_count": 8,
   "id": "d20bbaa7",
   "metadata": {},
   "outputs": [],
   "source": [
    "#creating an empty dictionary to add all the 5 csv files for TRAIN DATASET \n",
    "data_train = {}\n",
    "\n",
    "#loop to iterate over all the items of dictionary and append the csv files on it\n",
    "for pose, class_id in POSE_DICT.items():\n",
    "    data_train[class_id] = pd.read_csv(os.path.join('C:\\\\Users\\\\HBD\\\\Documents\\\\YogaPose_classification\\\\TrainDS\\\\', '{}.csv'.format(pose)), index_col=0)"
   ]
  },
  {
   "cell_type": "code",
   "execution_count": 67,
   "id": "a014f9e6",
   "metadata": {},
   "outputs": [],
   "source": [
    "#creating an empty dictionary to add all the 5 csv files for TRAIN DATASET \n",
    "data_test = {}\n",
    "\n",
    "#loop to iterate over all the items of dictionary and append the csv files on it\n",
    "for pose, class_id in POSE_DICT.items():\n",
    "    data_test[class_id] = pd.read_csv(os.path.join('C:\\\\Users\\\\HBD\\\\Documents\\\\YogaPose_classification\\\\TestDS\\\\', '{}.csv'.format(pose)), index_col=0)"
   ]
  },
  {
   "cell_type": "code",
   "execution_count": 171,
   "id": "5664b96a",
   "metadata": {},
   "outputs": [],
   "source": [
    "#printing entries to check if its appened correctly on train dataset dictionary\n",
    "print(data_train[0][['Nose y', 'right_wrist y', 'left_wrist y','pose']].head())\n",
    "print(data_train[1][['Nose y', 'right_wrist y', 'left_wrist y','pose']].head())"
   ]
  },
  {
   "cell_type": "code",
   "execution_count": 68,
   "id": "1cba8c7e",
   "metadata": {},
   "outputs": [
    {
     "name": "stdout",
     "output_type": "stream",
     "text": [
      "     Nose y  right_wrist y  left_wrist y     pose\n",
      "0  0.759728       0.896647      0.846163  downdog\n",
      "1  0.764660       0.872627      0.910119  downdog\n",
      "2  0.739474       0.853756      0.928014  downdog\n",
      "3  0.684020       0.830864      0.899128  downdog\n",
      "4  0.645560       0.725713      0.751534  downdog\n",
      "     Nose y  right_wrist y  left_wrist y     pose\n",
      "0  0.251286       0.111901      0.106405  goddess\n",
      "1  0.367380       0.377851      0.377205  goddess\n",
      "2  0.359367       0.341215      0.334023  goddess\n",
      "3  0.453918       0.555632      0.676420  goddess\n",
      "4  0.357837       0.338963      0.339704  goddess\n"
     ]
    }
   ],
   "source": [
    "#printing entries to check if its appened correctly on test dataset dictionary\n",
    "print(data_test[0][['Nose y', 'right_wrist y', 'left_wrist y','pose']].head())\n",
    "print(data_test[1][['Nose y', 'right_wrist y', 'left_wrist y','pose']].head())"
   ]
  },
  {
   "cell_type": "markdown",
   "id": "c0dd235e",
   "metadata": {},
   "source": [
    "NOW THE ABOVE CSV FILES HAVE TO BE COMBINED IN 2 SEPERATE CSV FILES. ONE FOR TRAIN AND ONE FOR TEST DATA."
   ]
  },
  {
   "cell_type": "code",
   "execution_count": 21,
   "id": "b922392a",
   "metadata": {},
   "outputs": [],
   "source": [
    "#address of the directory where the 5 csv files for TRAIN dataset are saved\n",
    "os.chdir(\"C:\\\\Users\\\\HBD\\\\Documents\\\\YogaPose_classification\\\\TrainDS\")"
   ]
  },
  {
   "cell_type": "code",
   "execution_count": 22,
   "id": "7cd82b92",
   "metadata": {},
   "outputs": [],
   "source": [
    "extension_train = 'csv'\n",
    "\n",
    "#listing all the files in that directory with extention 'csv'\n",
    "all_filenames_train = [i for i in glob.glob('*.{}'.format(extension_train))]\n"
   ]
  },
  {
   "cell_type": "code",
   "execution_count": 23,
   "id": "ff076fec",
   "metadata": {},
   "outputs": [],
   "source": [
    "#combine all files in the list\n",
    "combined_csv = pd.concat([pd.read_csv(f) for f in all_filenames_train ])\n",
    "\n",
    "#export to csv\n",
    "combined_csv.to_csv( \"combined_csv.csv\", index=False, encoding='utf-8-sig')"
   ]
  },
  {
   "cell_type": "code",
   "execution_count": 71,
   "id": "134c9b02",
   "metadata": {},
   "outputs": [],
   "source": [
    "#address of the directory where the 5 csv files for TEST dataset are saved\n",
    "os.chdir(\"C:\\\\Users\\\\HBD\\\\Documents\\\\YogaPose_classification\\\\TestDS\")\n",
    "\n",
    "extension_test = 'csv'\n",
    "\n",
    "all_filenames_test = [i for i in glob.glob('*.{}'.format(extension_test))]\n"
   ]
  },
  {
   "cell_type": "code",
   "execution_count": 72,
   "id": "da849ddd",
   "metadata": {},
   "outputs": [],
   "source": [
    "#combine all files in the list\n",
    "test_combined_csv = pd.concat([pd.read_csv(f) for f in all_filenames_test ])\n",
    "#export to csv\n",
    "test_combined_csv.to_csv( \"test_combined_csv.csv\", index=False, encoding='utf-8-sig')"
   ]
  },
  {
   "cell_type": "markdown",
   "id": "351143f9",
   "metadata": {},
   "source": [
    "READING THE TRAIN AND TEST CSV FILES INTO DATAFRAME "
   ]
  },
  {
   "cell_type": "code",
   "execution_count": 148,
   "id": "35fdfa0c",
   "metadata": {},
   "outputs": [],
   "source": [
    "train_df = pd.read_csv(\"C:\\\\Users\\\\HBD\\\\Documents\\\\YogaPose_classification\\\\TrainDS\\\\combined_csv.csv\")"
   ]
  },
  {
   "cell_type": "code",
   "execution_count": 73,
   "id": "52f30156",
   "metadata": {},
   "outputs": [],
   "source": [
    "test_df = pd.read_csv(\"C:\\\\Users\\\\HBD\\\\Documents\\\\YogaPose_classification\\\\TestDS\\\\test_combined_csv.csv\")"
   ]
  },
  {
   "cell_type": "code",
   "execution_count": 135,
   "id": "3f4f199d",
   "metadata": {},
   "outputs": [
    {
     "data": {
      "text/html": [
       "<div>\n",
       "<style scoped>\n",
       "    .dataframe tbody tr th:only-of-type {\n",
       "        vertical-align: middle;\n",
       "    }\n",
       "\n",
       "    .dataframe tbody tr th {\n",
       "        vertical-align: top;\n",
       "    }\n",
       "\n",
       "    .dataframe thead th {\n",
       "        text-align: right;\n",
       "    }\n",
       "</style>\n",
       "<table border=\"1\" class=\"dataframe\">\n",
       "  <thead>\n",
       "    <tr style=\"text-align: right;\">\n",
       "      <th></th>\n",
       "      <th>pose</th>\n",
       "      <th>Nose x</th>\n",
       "      <th>Nose y</th>\n",
       "      <th>Left_eye_inner x</th>\n",
       "      <th>Left_eye_inner y</th>\n",
       "      <th>Left_eye x</th>\n",
       "      <th>Left_eye y</th>\n",
       "      <th>Left_eye_outer x</th>\n",
       "      <th>Left_eye_outer y</th>\n",
       "      <th>right_eye_inner x</th>\n",
       "      <th>...</th>\n",
       "      <th>right_ankle x</th>\n",
       "      <th>right_ankle y</th>\n",
       "      <th>left_heel x</th>\n",
       "      <th>left_heel y</th>\n",
       "      <th>right_heel x</th>\n",
       "      <th>right_heel y</th>\n",
       "      <th>left_foot_index x</th>\n",
       "      <th>left_foot_index y</th>\n",
       "      <th>right_foot_index x</th>\n",
       "      <th>right_foot_index y</th>\n",
       "    </tr>\n",
       "  </thead>\n",
       "  <tbody>\n",
       "    <tr>\n",
       "      <th>0</th>\n",
       "      <td>downdog</td>\n",
       "      <td>0.473025</td>\n",
       "      <td>0.724765</td>\n",
       "      <td>0.456647</td>\n",
       "      <td>0.730075</td>\n",
       "      <td>0.454467</td>\n",
       "      <td>0.728076</td>\n",
       "      <td>0.452063</td>\n",
       "      <td>0.725779</td>\n",
       "      <td>0.455921</td>\n",
       "      <td>...</td>\n",
       "      <td>0.784478</td>\n",
       "      <td>0.743638</td>\n",
       "      <td>0.82828</td>\n",
       "      <td>0.776433</td>\n",
       "      <td>0.801361</td>\n",
       "      <td>0.759982</td>\n",
       "      <td>0.745398</td>\n",
       "      <td>0.794812</td>\n",
       "      <td>0.736808</td>\n",
       "      <td>0.784433</td>\n",
       "    </tr>\n",
       "    <tr>\n",
       "      <th>1</th>\n",
       "      <td>downdog</td>\n",
       "      <td>0.563061</td>\n",
       "      <td>0.657513</td>\n",
       "      <td>0.580647</td>\n",
       "      <td>0.663995</td>\n",
       "      <td>0.582510</td>\n",
       "      <td>0.661348</td>\n",
       "      <td>0.584492</td>\n",
       "      <td>0.658282</td>\n",
       "      <td>0.580242</td>\n",
       "      <td>...</td>\n",
       "      <td>0.258608</td>\n",
       "      <td>0.739572</td>\n",
       "      <td>0.24691</td>\n",
       "      <td>0.782398</td>\n",
       "      <td>0.234630</td>\n",
       "      <td>0.796620</td>\n",
       "      <td>0.332900</td>\n",
       "      <td>0.804314</td>\n",
       "      <td>0.325635</td>\n",
       "      <td>0.825382</td>\n",
       "    </tr>\n",
       "  </tbody>\n",
       "</table>\n",
       "<p>2 rows × 67 columns</p>\n",
       "</div>"
      ],
      "text/plain": [
       "      pose    Nose x    Nose y  Left_eye_inner x  Left_eye_inner y  \\\n",
       "0  downdog  0.473025  0.724765          0.456647          0.730075   \n",
       "1  downdog  0.563061  0.657513          0.580647          0.663995   \n",
       "\n",
       "   Left_eye x  Left_eye y  Left_eye_outer x  Left_eye_outer y  \\\n",
       "0    0.454467    0.728076          0.452063          0.725779   \n",
       "1    0.582510    0.661348          0.584492          0.658282   \n",
       "\n",
       "   right_eye_inner x  ...  right_ankle x  right_ankle y  left_heel x  \\\n",
       "0           0.455921  ...       0.784478       0.743638      0.82828   \n",
       "1           0.580242  ...       0.258608       0.739572      0.24691   \n",
       "\n",
       "   left_heel y  right_heel x  right_heel y  left_foot_index x  \\\n",
       "0     0.776433      0.801361      0.759982           0.745398   \n",
       "1     0.782398      0.234630      0.796620           0.332900   \n",
       "\n",
       "   left_foot_index y  right_foot_index x  right_foot_index y  \n",
       "0           0.794812            0.736808            0.784433  \n",
       "1           0.804314            0.325635            0.825382  \n",
       "\n",
       "[2 rows x 67 columns]"
      ]
     },
     "execution_count": 135,
     "metadata": {},
     "output_type": "execute_result"
    }
   ],
   "source": [
    "train_df.head(2)"
   ]
  },
  {
   "cell_type": "code",
   "execution_count": 136,
   "id": "1fa131bc",
   "metadata": {},
   "outputs": [
    {
     "data": {
      "text/html": [
       "<div>\n",
       "<style scoped>\n",
       "    .dataframe tbody tr th:only-of-type {\n",
       "        vertical-align: middle;\n",
       "    }\n",
       "\n",
       "    .dataframe tbody tr th {\n",
       "        vertical-align: top;\n",
       "    }\n",
       "\n",
       "    .dataframe thead th {\n",
       "        text-align: right;\n",
       "    }\n",
       "</style>\n",
       "<table border=\"1\" class=\"dataframe\">\n",
       "  <thead>\n",
       "    <tr style=\"text-align: right;\">\n",
       "      <th></th>\n",
       "      <th>pose</th>\n",
       "      <th>Nose x</th>\n",
       "      <th>Nose y</th>\n",
       "      <th>Left_eye_inner x</th>\n",
       "      <th>Left_eye_inner y</th>\n",
       "      <th>Left_eye x</th>\n",
       "      <th>Left_eye y</th>\n",
       "      <th>Left_eye_outer x</th>\n",
       "      <th>Left_eye_outer y</th>\n",
       "      <th>right_eye_inner x</th>\n",
       "      <th>...</th>\n",
       "      <th>right_ankle x</th>\n",
       "      <th>right_ankle y</th>\n",
       "      <th>left_heel x</th>\n",
       "      <th>left_heel y</th>\n",
       "      <th>right_heel x</th>\n",
       "      <th>right_heel y</th>\n",
       "      <th>left_foot_index x</th>\n",
       "      <th>left_foot_index y</th>\n",
       "      <th>right_foot_index x</th>\n",
       "      <th>right_foot_index y</th>\n",
       "    </tr>\n",
       "  </thead>\n",
       "  <tbody>\n",
       "    <tr>\n",
       "      <th>0</th>\n",
       "      <td>downdog</td>\n",
       "      <td>0.544188</td>\n",
       "      <td>0.759728</td>\n",
       "      <td>0.564265</td>\n",
       "      <td>0.777088</td>\n",
       "      <td>0.566724</td>\n",
       "      <td>0.775801</td>\n",
       "      <td>0.569913</td>\n",
       "      <td>0.774041</td>\n",
       "      <td>0.564282</td>\n",
       "      <td>...</td>\n",
       "      <td>0.183566</td>\n",
       "      <td>0.817694</td>\n",
       "      <td>0.168044</td>\n",
       "      <td>0.843284</td>\n",
       "      <td>0.153090</td>\n",
       "      <td>0.848239</td>\n",
       "      <td>0.270753</td>\n",
       "      <td>0.878541</td>\n",
       "      <td>0.262585</td>\n",
       "      <td>0.883095</td>\n",
       "    </tr>\n",
       "    <tr>\n",
       "      <th>1</th>\n",
       "      <td>downdog</td>\n",
       "      <td>0.378873</td>\n",
       "      <td>0.764660</td>\n",
       "      <td>0.355602</td>\n",
       "      <td>0.755793</td>\n",
       "      <td>0.354001</td>\n",
       "      <td>0.750477</td>\n",
       "      <td>0.352241</td>\n",
       "      <td>0.744647</td>\n",
       "      <td>0.355824</td>\n",
       "      <td>...</td>\n",
       "      <td>0.876976</td>\n",
       "      <td>0.821419</td>\n",
       "      <td>0.940832</td>\n",
       "      <td>0.901670</td>\n",
       "      <td>0.916826</td>\n",
       "      <td>0.876229</td>\n",
       "      <td>0.784191</td>\n",
       "      <td>0.935821</td>\n",
       "      <td>0.774428</td>\n",
       "      <td>0.914212</td>\n",
       "    </tr>\n",
       "  </tbody>\n",
       "</table>\n",
       "<p>2 rows × 67 columns</p>\n",
       "</div>"
      ],
      "text/plain": [
       "      pose    Nose x    Nose y  Left_eye_inner x  Left_eye_inner y  \\\n",
       "0  downdog  0.544188  0.759728          0.564265          0.777088   \n",
       "1  downdog  0.378873  0.764660          0.355602          0.755793   \n",
       "\n",
       "   Left_eye x  Left_eye y  Left_eye_outer x  Left_eye_outer y  \\\n",
       "0    0.566724    0.775801          0.569913          0.774041   \n",
       "1    0.354001    0.750477          0.352241          0.744647   \n",
       "\n",
       "   right_eye_inner x  ...  right_ankle x  right_ankle y  left_heel x  \\\n",
       "0           0.564282  ...       0.183566       0.817694     0.168044   \n",
       "1           0.355824  ...       0.876976       0.821419     0.940832   \n",
       "\n",
       "   left_heel y  right_heel x  right_heel y  left_foot_index x  \\\n",
       "0     0.843284      0.153090      0.848239           0.270753   \n",
       "1     0.901670      0.916826      0.876229           0.784191   \n",
       "\n",
       "   left_foot_index y  right_foot_index x  right_foot_index y  \n",
       "0           0.878541            0.262585            0.883095  \n",
       "1           0.935821            0.774428            0.914212  \n",
       "\n",
       "[2 rows x 67 columns]"
      ]
     },
     "execution_count": 136,
     "metadata": {},
     "output_type": "execute_result"
    }
   ],
   "source": [
    "test_df.head(2)"
   ]
  },
  {
   "cell_type": "code",
   "execution_count": 169,
   "id": "a5fe8c8c",
   "metadata": {},
   "outputs": [],
   "source": [
    "train_df = train_df.drop(['Unnamed: 0'], axis=1)\n"
   ]
  },
  {
   "cell_type": "code",
   "execution_count": 76,
   "id": "f9873411",
   "metadata": {},
   "outputs": [],
   "source": [
    "test_df = test_df.drop(['Unnamed: 0'], axis=1)"
   ]
  },
  {
   "cell_type": "code",
   "execution_count": 134,
   "id": "bcd9f127",
   "metadata": {},
   "outputs": [],
   "source": [
    "#test_df.head(2)"
   ]
  },
  {
   "cell_type": "markdown",
   "id": "027b8764",
   "metadata": {},
   "source": [
    "SEPERATING THE DEPENDENT AND INDEPENDENT FEATURES FROM TRAIN DATASET"
   ]
  },
  {
   "cell_type": "code",
   "execution_count": 161,
   "id": "50dda2a3",
   "metadata": {},
   "outputs": [],
   "source": [
    "X = train_df.drop('pose',axis=1)\n",
    "y = train_df['pose']"
   ]
  },
  {
   "cell_type": "markdown",
   "id": "7174f904",
   "metadata": {},
   "source": [
    " SPLITING THE TRAIN DATASET "
   ]
  },
  {
   "cell_type": "code",
   "execution_count": 162,
   "id": "60eb2041",
   "metadata": {},
   "outputs": [],
   "source": [
    "X_train, X_valid, y_train, y_valid = train_test_split(X, y, test_size=0.2, random_state=0)"
   ]
  },
  {
   "cell_type": "code",
   "execution_count": 163,
   "id": "b7874b95",
   "metadata": {},
   "outputs": [],
   "source": [
    "#all the values were already scaled down while saving into csv files\n",
    "\n",
    "#sc= StandardScaler().fit(X_train)\n",
    "#X_train_std = sc.transform(X_train)\n",
    "#X_valid_std = sc.transform(X_valid)\n",
    "#X_valid_std"
   ]
  },
  {
   "cell_type": "markdown",
   "id": "95b92018",
   "metadata": {},
   "source": [
    "# SVM MODEL "
   ]
  },
  {
   "cell_type": "code",
   "execution_count": 164,
   "id": "ac263e27",
   "metadata": {},
   "outputs": [
    {
     "name": "stdout",
     "output_type": "stream",
     "text": [
      "Test Accuracy Score:\n",
      "0.8431372549019608\n"
     ]
    }
   ],
   "source": [
    "svc=SVC() #Default hyperparameters\n",
    "\n",
    "#fitting the model\n",
    "svc.fit(X_train,y_train)\n",
    "\n",
    "#predicting the result\n",
    "y_valid_pred = svc.predict(X_valid)\n",
    "y_train_pred = svc.predict(X_train)\n",
    "\n",
    "print('Test Accuracy Score:')\n",
    "print(metrics.accuracy_score(y_valid,y_valid_pred))"
   ]
  },
  {
   "cell_type": "code",
   "execution_count": 165,
   "id": "9faba492",
   "metadata": {},
   "outputs": [
    {
     "name": "stdout",
     "output_type": "stream",
     "text": [
      "              precision    recall  f1-score   support\n",
      "\n",
      "     downdog       1.00      0.86      0.92         7\n",
      "     goddess       0.70      0.78      0.74         9\n",
      "       plank       1.00      0.92      0.96        12\n",
      "        tree       0.93      0.88      0.90        16\n",
      "    warrior2       0.56      0.71      0.63         7\n",
      "\n",
      "    accuracy                           0.84        51\n",
      "   macro avg       0.84      0.83      0.83        51\n",
      "weighted avg       0.87      0.84      0.85        51\n",
      "\n"
     ]
    }
   ],
   "source": [
    "print(classification_report(y_valid, y_valid_pred))"
   ]
  },
  {
   "cell_type": "markdown",
   "id": "1375ca50",
   "metadata": {},
   "source": [
    "THE ACCURACY FOR DEFAULT SVM MODEL CAME 84% ON THE VALIDATION DATA. FROM THE ABOVE REPORT WE CAN SEE THAT THE MODEL SHOWS COMPARATIVELY LESS ACCURACY FOR WARRIOR2 IMAGES. IT IS BECAUSE THE IMAGES HAVE MANY VARIATIONS IN TERMS OF POSITION OF KEYPOINTS I.E. THERE ARE A LOT OF DIFFERENT POSES FOR WARRIOR2 YOGA POSE AND THE REST OF THE POSES HAVE VERY SIMILAR KIND OF IMAGES SO ITS EASIER TO DETECT AND CLASSIFY THEM."
   ]
  },
  {
   "cell_type": "markdown",
   "id": "87a299c4",
   "metadata": {},
   "source": [
    "# Hypertuning SVM model"
   ]
  },
  {
   "cell_type": "code",
   "execution_count": 166,
   "id": "0fb248eb",
   "metadata": {},
   "outputs": [
    {
     "name": "stdout",
     "output_type": "stream",
     "text": [
      "Fitting 5 folds for each of 25 candidates, totalling 125 fits\n",
      "[CV 1/5] END .....................C=0.1, gamma=1, kernel=rbf; total time=   0.0s\n",
      "[CV 2/5] END .....................C=0.1, gamma=1, kernel=rbf; total time=   0.0s\n",
      "[CV 3/5] END .....................C=0.1, gamma=1, kernel=rbf; total time=   0.0s\n",
      "[CV 4/5] END .....................C=0.1, gamma=1, kernel=rbf; total time=   0.0s\n",
      "[CV 5/5] END .....................C=0.1, gamma=1, kernel=rbf; total time=   0.0s\n",
      "[CV 1/5] END ...................C=0.1, gamma=0.1, kernel=rbf; total time=   0.0s\n",
      "[CV 2/5] END ...................C=0.1, gamma=0.1, kernel=rbf; total time=   0.0s\n",
      "[CV 3/5] END ...................C=0.1, gamma=0.1, kernel=rbf; total time=   0.0s\n",
      "[CV 4/5] END ...................C=0.1, gamma=0.1, kernel=rbf; total time=   0.0s\n",
      "[CV 5/5] END ...................C=0.1, gamma=0.1, kernel=rbf; total time=   0.0s\n",
      "[CV 1/5] END ..................C=0.1, gamma=0.01, kernel=rbf; total time=   0.0s\n",
      "[CV 2/5] END ..................C=0.1, gamma=0.01, kernel=rbf; total time=   0.0s\n",
      "[CV 3/5] END ..................C=0.1, gamma=0.01, kernel=rbf; total time=   0.0s\n",
      "[CV 4/5] END ..................C=0.1, gamma=0.01, kernel=rbf; total time=   0.0s\n",
      "[CV 5/5] END ..................C=0.1, gamma=0.01, kernel=rbf; total time=   0.0s\n",
      "[CV 1/5] END .................C=0.1, gamma=0.001, kernel=rbf; total time=   0.0s\n",
      "[CV 2/5] END .................C=0.1, gamma=0.001, kernel=rbf; total time=   0.0s\n",
      "[CV 3/5] END .................C=0.1, gamma=0.001, kernel=rbf; total time=   0.0s\n",
      "[CV 4/5] END .................C=0.1, gamma=0.001, kernel=rbf; total time=   0.0s\n",
      "[CV 5/5] END .................C=0.1, gamma=0.001, kernel=rbf; total time=   0.0s\n",
      "[CV 1/5] END ................C=0.1, gamma=0.0001, kernel=rbf; total time=   0.0s\n",
      "[CV 2/5] END ................C=0.1, gamma=0.0001, kernel=rbf; total time=   0.0s\n",
      "[CV 3/5] END ................C=0.1, gamma=0.0001, kernel=rbf; total time=   0.0s\n",
      "[CV 4/5] END ................C=0.1, gamma=0.0001, kernel=rbf; total time=   0.0s\n",
      "[CV 5/5] END ................C=0.1, gamma=0.0001, kernel=rbf; total time=   0.0s\n",
      "[CV 1/5] END .......................C=1, gamma=1, kernel=rbf; total time=   0.0s\n",
      "[CV 2/5] END .......................C=1, gamma=1, kernel=rbf; total time=   0.0s\n",
      "[CV 3/5] END .......................C=1, gamma=1, kernel=rbf; total time=   0.0s\n",
      "[CV 4/5] END .......................C=1, gamma=1, kernel=rbf; total time=   0.0s\n",
      "[CV 5/5] END .......................C=1, gamma=1, kernel=rbf; total time=   0.0s\n",
      "[CV 1/5] END .....................C=1, gamma=0.1, kernel=rbf; total time=   0.0s\n",
      "[CV 2/5] END .....................C=1, gamma=0.1, kernel=rbf; total time=   0.0s\n",
      "[CV 3/5] END .....................C=1, gamma=0.1, kernel=rbf; total time=   0.0s\n",
      "[CV 4/5] END .....................C=1, gamma=0.1, kernel=rbf; total time=   0.0s\n",
      "[CV 5/5] END .....................C=1, gamma=0.1, kernel=rbf; total time=   0.0s\n",
      "[CV 1/5] END ....................C=1, gamma=0.01, kernel=rbf; total time=   0.0s\n",
      "[CV 2/5] END ....................C=1, gamma=0.01, kernel=rbf; total time=   0.0s\n",
      "[CV 3/5] END ....................C=1, gamma=0.01, kernel=rbf; total time=   0.0s\n",
      "[CV 4/5] END ....................C=1, gamma=0.01, kernel=rbf; total time=   0.0s\n",
      "[CV 5/5] END ....................C=1, gamma=0.01, kernel=rbf; total time=   0.0s\n",
      "[CV 1/5] END ...................C=1, gamma=0.001, kernel=rbf; total time=   0.0s\n",
      "[CV 2/5] END ...................C=1, gamma=0.001, kernel=rbf; total time=   0.0s\n",
      "[CV 3/5] END ...................C=1, gamma=0.001, kernel=rbf; total time=   0.0s\n",
      "[CV 4/5] END ...................C=1, gamma=0.001, kernel=rbf; total time=   0.0s\n",
      "[CV 5/5] END ...................C=1, gamma=0.001, kernel=rbf; total time=   0.0s\n",
      "[CV 1/5] END ..................C=1, gamma=0.0001, kernel=rbf; total time=   0.0s\n",
      "[CV 2/5] END ..................C=1, gamma=0.0001, kernel=rbf; total time=   0.0s\n",
      "[CV 3/5] END ..................C=1, gamma=0.0001, kernel=rbf; total time=   0.0s\n",
      "[CV 4/5] END ..................C=1, gamma=0.0001, kernel=rbf; total time=   0.0s\n",
      "[CV 5/5] END ..................C=1, gamma=0.0001, kernel=rbf; total time=   0.0s\n",
      "[CV 1/5] END ......................C=10, gamma=1, kernel=rbf; total time=   0.0s\n",
      "[CV 2/5] END ......................C=10, gamma=1, kernel=rbf; total time=   0.0s\n",
      "[CV 3/5] END ......................C=10, gamma=1, kernel=rbf; total time=   0.0s\n",
      "[CV 4/5] END ......................C=10, gamma=1, kernel=rbf; total time=   0.0s\n",
      "[CV 5/5] END ......................C=10, gamma=1, kernel=rbf; total time=   0.0s\n",
      "[CV 1/5] END ....................C=10, gamma=0.1, kernel=rbf; total time=   0.0s\n",
      "[CV 2/5] END ....................C=10, gamma=0.1, kernel=rbf; total time=   0.0s\n",
      "[CV 3/5] END ....................C=10, gamma=0.1, kernel=rbf; total time=   0.0s\n",
      "[CV 4/5] END ....................C=10, gamma=0.1, kernel=rbf; total time=   0.0s\n",
      "[CV 5/5] END ....................C=10, gamma=0.1, kernel=rbf; total time=   0.0s\n",
      "[CV 1/5] END ...................C=10, gamma=0.01, kernel=rbf; total time=   0.0s\n",
      "[CV 2/5] END ...................C=10, gamma=0.01, kernel=rbf; total time=   0.0s\n",
      "[CV 3/5] END ...................C=10, gamma=0.01, kernel=rbf; total time=   0.0s\n",
      "[CV 4/5] END ...................C=10, gamma=0.01, kernel=rbf; total time=   0.0s\n",
      "[CV 5/5] END ...................C=10, gamma=0.01, kernel=rbf; total time=   0.0s\n",
      "[CV 1/5] END ..................C=10, gamma=0.001, kernel=rbf; total time=   0.0s\n",
      "[CV 2/5] END ..................C=10, gamma=0.001, kernel=rbf; total time=   0.0s\n",
      "[CV 3/5] END ..................C=10, gamma=0.001, kernel=rbf; total time=   0.0s\n",
      "[CV 4/5] END ..................C=10, gamma=0.001, kernel=rbf; total time=   0.0s\n",
      "[CV 5/5] END ..................C=10, gamma=0.001, kernel=rbf; total time=   0.0s\n",
      "[CV 1/5] END .................C=10, gamma=0.0001, kernel=rbf; total time=   0.0s\n",
      "[CV 2/5] END .................C=10, gamma=0.0001, kernel=rbf; total time=   0.0s\n",
      "[CV 3/5] END .................C=10, gamma=0.0001, kernel=rbf; total time=   0.0s\n",
      "[CV 4/5] END .................C=10, gamma=0.0001, kernel=rbf; total time=   0.0s\n",
      "[CV 5/5] END .................C=10, gamma=0.0001, kernel=rbf; total time=   0.0s\n",
      "[CV 1/5] END .....................C=100, gamma=1, kernel=rbf; total time=   0.0s\n",
      "[CV 2/5] END .....................C=100, gamma=1, kernel=rbf; total time=   0.0s\n",
      "[CV 3/5] END .....................C=100, gamma=1, kernel=rbf; total time=   0.0s\n",
      "[CV 4/5] END .....................C=100, gamma=1, kernel=rbf; total time=   0.0s\n",
      "[CV 5/5] END .....................C=100, gamma=1, kernel=rbf; total time=   0.0s\n",
      "[CV 1/5] END ...................C=100, gamma=0.1, kernel=rbf; total time=   0.0s\n",
      "[CV 2/5] END ...................C=100, gamma=0.1, kernel=rbf; total time=   0.0s\n",
      "[CV 3/5] END ...................C=100, gamma=0.1, kernel=rbf; total time=   0.0s\n",
      "[CV 4/5] END ...................C=100, gamma=0.1, kernel=rbf; total time=   0.0s\n",
      "[CV 5/5] END ...................C=100, gamma=0.1, kernel=rbf; total time=   0.0s\n",
      "[CV 1/5] END ..................C=100, gamma=0.01, kernel=rbf; total time=   0.0s\n",
      "[CV 2/5] END ..................C=100, gamma=0.01, kernel=rbf; total time=   0.0s\n",
      "[CV 3/5] END ..................C=100, gamma=0.01, kernel=rbf; total time=   0.0s\n",
      "[CV 4/5] END ..................C=100, gamma=0.01, kernel=rbf; total time=   0.0s\n",
      "[CV 5/5] END ..................C=100, gamma=0.01, kernel=rbf; total time=   0.0s\n",
      "[CV 1/5] END .................C=100, gamma=0.001, kernel=rbf; total time=   0.0s\n",
      "[CV 2/5] END .................C=100, gamma=0.001, kernel=rbf; total time=   0.0s\n",
      "[CV 3/5] END .................C=100, gamma=0.001, kernel=rbf; total time=   0.0s\n",
      "[CV 4/5] END .................C=100, gamma=0.001, kernel=rbf; total time=   0.0s\n",
      "[CV 5/5] END .................C=100, gamma=0.001, kernel=rbf; total time=   0.0s\n",
      "[CV 1/5] END ................C=100, gamma=0.0001, kernel=rbf; total time=   0.0s\n",
      "[CV 2/5] END ................C=100, gamma=0.0001, kernel=rbf; total time=   0.0s\n",
      "[CV 3/5] END ................C=100, gamma=0.0001, kernel=rbf; total time=   0.0s\n",
      "[CV 4/5] END ................C=100, gamma=0.0001, kernel=rbf; total time=   0.0s\n",
      "[CV 5/5] END ................C=100, gamma=0.0001, kernel=rbf; total time=   0.0s\n",
      "[CV 1/5] END ....................C=1000, gamma=1, kernel=rbf; total time=   0.0s\n",
      "[CV 2/5] END ....................C=1000, gamma=1, kernel=rbf; total time=   0.0s\n",
      "[CV 3/5] END ....................C=1000, gamma=1, kernel=rbf; total time=   0.0s\n",
      "[CV 4/5] END ....................C=1000, gamma=1, kernel=rbf; total time=   0.0s\n",
      "[CV 5/5] END ....................C=1000, gamma=1, kernel=rbf; total time=   0.0s\n",
      "[CV 1/5] END ..................C=1000, gamma=0.1, kernel=rbf; total time=   0.0s\n",
      "[CV 2/5] END ..................C=1000, gamma=0.1, kernel=rbf; total time=   0.0s\n",
      "[CV 3/5] END ..................C=1000, gamma=0.1, kernel=rbf; total time=   0.0s\n",
      "[CV 4/5] END ..................C=1000, gamma=0.1, kernel=rbf; total time=   0.0s\n",
      "[CV 5/5] END ..................C=1000, gamma=0.1, kernel=rbf; total time=   0.0s\n",
      "[CV 1/5] END .................C=1000, gamma=0.01, kernel=rbf; total time=   0.0s\n",
      "[CV 2/5] END .................C=1000, gamma=0.01, kernel=rbf; total time=   0.0s\n",
      "[CV 3/5] END .................C=1000, gamma=0.01, kernel=rbf; total time=   0.0s\n",
      "[CV 4/5] END .................C=1000, gamma=0.01, kernel=rbf; total time=   0.0s\n",
      "[CV 5/5] END .................C=1000, gamma=0.01, kernel=rbf; total time=   0.0s\n",
      "[CV 1/5] END ................C=1000, gamma=0.001, kernel=rbf; total time=   0.0s\n",
      "[CV 2/5] END ................C=1000, gamma=0.001, kernel=rbf; total time=   0.0s\n",
      "[CV 3/5] END ................C=1000, gamma=0.001, kernel=rbf; total time=   0.0s\n",
      "[CV 4/5] END ................C=1000, gamma=0.001, kernel=rbf; total time=   0.0s\n",
      "[CV 5/5] END ................C=1000, gamma=0.001, kernel=rbf; total time=   0.0s\n",
      "[CV 1/5] END ...............C=1000, gamma=0.0001, kernel=rbf; total time=   0.0s\n",
      "[CV 2/5] END ...............C=1000, gamma=0.0001, kernel=rbf; total time=   0.0s\n",
      "[CV 3/5] END ...............C=1000, gamma=0.0001, kernel=rbf; total time=   0.0s\n",
      "[CV 4/5] END ...............C=1000, gamma=0.0001, kernel=rbf; total time=   0.0s\n",
      "[CV 5/5] END ...............C=1000, gamma=0.0001, kernel=rbf; total time=   0.0s\n"
     ]
    },
    {
     "data": {
      "text/plain": [
       "GridSearchCV(estimator=SVC(),\n",
       "             param_grid={'C': [0.1, 1, 10, 100, 1000],\n",
       "                         'gamma': [1, 0.1, 0.01, 0.001, 0.0001],\n",
       "                         'kernel': ['rbf']},\n",
       "             verbose=3)"
      ]
     },
     "execution_count": 166,
     "metadata": {},
     "output_type": "execute_result"
    }
   ],
   "source": [
    "# defining parameter range\n",
    "param_grid = {'C': [0.1, 1, 10, 100, 1000],\n",
    "              'gamma': [1, 0.1, 0.01, 0.001, 0.0001],\n",
    "              'kernel': ['rbf']}\n",
    "\n",
    "grid = GridSearchCV(SVC(), param_grid, refit = True, verbose = 3)\n",
    "\n",
    "# fitting the model for grid search\n",
    "grid.fit(X_train,y_train)\n"
   ]
  },
  {
   "cell_type": "code",
   "execution_count": 167,
   "id": "8f2a2607",
   "metadata": {},
   "outputs": [
    {
     "name": "stdout",
     "output_type": "stream",
     "text": [
      "{'C': 100, 'gamma': 0.1, 'kernel': 'rbf'}\n",
      "SVC(C=100, gamma=0.1)\n"
     ]
    }
   ],
   "source": [
    "#best parameter after tuning\n",
    "print(grid.best_params_)\n",
    "\n",
    "# printing how  model looks after hyper-parameter tuning\n",
    "print(grid.best_estimator_)\n"
   ]
  },
  {
   "cell_type": "code",
   "execution_count": 168,
   "id": "fa73b2c4",
   "metadata": {},
   "outputs": [
    {
     "name": "stdout",
     "output_type": "stream",
     "text": [
      "              precision    recall  f1-score   support\n",
      "\n",
      "     downdog       0.88      1.00      0.93         7\n",
      "     goddess       0.73      0.89      0.80         9\n",
      "       plank       1.00      0.92      0.96        12\n",
      "        tree       1.00      0.88      0.93        16\n",
      "    warrior2       1.00      1.00      1.00         7\n",
      "\n",
      "    accuracy                           0.92        51\n",
      "   macro avg       0.92      0.94      0.92        51\n",
      "weighted avg       0.93      0.92      0.92        51\n",
      "\n"
     ]
    }
   ],
   "source": [
    "#making the predictions using best estimator\n",
    "grid_predictions = grid.best_estimator_.predict(X_valid)\n",
    "\n",
    "# print classification report\n",
    "print(classification_report(y_valid, grid_predictions))"
   ]
  },
  {
   "cell_type": "markdown",
   "id": "15cd8e36",
   "metadata": {},
   "source": [
    "THE ACCURACY HAS INCREACED AFTER HYPERPARAMETER TUNING TO 92%"
   ]
  },
  {
   "cell_type": "markdown",
   "id": "36174d5d",
   "metadata": {},
   "source": [
    "USING THE TEST DATASET TO CHECK THE ACCURACY OF SVM MODEL"
   ]
  },
  {
   "cell_type": "code",
   "execution_count": 73,
   "id": "9e424193",
   "metadata": {},
   "outputs": [],
   "source": [
    "test_df = pd.read_csv(\"C:\\\\Users\\\\HBD\\\\Documents\\\\YogaPose_classification\\\\TestDS\\\\test_combined_csv.csv\")"
   ]
  },
  {
   "cell_type": "code",
   "execution_count": 113,
   "id": "8ca91a19",
   "metadata": {},
   "outputs": [],
   "source": [
    "#seperating the independent features(keypoints) and target feature(pose)\n",
    "L = test_df.drop('pose',axis=1)\n",
    "m = test_df['pose']"
   ]
  },
  {
   "cell_type": "code",
   "execution_count": 172,
   "id": "cc4603d7",
   "metadata": {},
   "outputs": [],
   "source": [
    "X_train, X_test, y_train, y_test = train_test_split(X, y, test_size=0.2, random_state=0)"
   ]
  },
  {
   "cell_type": "code",
   "execution_count": 173,
   "id": "daf8cd30",
   "metadata": {},
   "outputs": [],
   "source": [
    "X_train =  X\n",
    "X_test = L\n",
    "y_train = y\n",
    "y_test = m"
   ]
  },
  {
   "cell_type": "code",
   "execution_count": 174,
   "id": "9ce6acc2",
   "metadata": {},
   "outputs": [
    {
     "name": "stdout",
     "output_type": "stream",
     "text": [
      "Test Accuracy Score:\n",
      "0.9191919191919192\n"
     ]
    }
   ],
   "source": [
    "svc=SVC() #Default hyperparameters\n",
    "\n",
    "svc.fit(X_train,y_train)\n",
    "\n",
    "y_test_pred = svc.predict(X_test)\n",
    "\n",
    "print('Test Accuracy Score:')\n",
    "print(metrics.accuracy_score(y_test,y_test_pred))"
   ]
  },
  {
   "cell_type": "code",
   "execution_count": 118,
   "id": "f6613173",
   "metadata": {},
   "outputs": [
    {
     "name": "stdout",
     "output_type": "stream",
     "text": [
      "              precision    recall  f1-score   support\n",
      "\n",
      "     downdog       0.94      1.00      0.97        15\n",
      "     goddess       0.92      0.69      0.79        16\n",
      "       plank       0.96      0.96      0.96        27\n",
      "        tree       0.92      0.96      0.94        24\n",
      "    warrior2       0.84      0.94      0.89        17\n",
      "\n",
      "    accuracy                           0.92        99\n",
      "   macro avg       0.92      0.91      0.91        99\n",
      "weighted avg       0.92      0.92      0.92        99\n",
      "\n"
     ]
    }
   ],
   "source": [
    "print(classification_report(y_test, y_test_pred))"
   ]
  },
  {
   "cell_type": "markdown",
   "id": "53e86732",
   "metadata": {},
   "source": [
    "THE ACCURACY ON TEST DATASET WITHOUT HYPER PARAMETER TUNING COMES OUT TO BE 92%"
   ]
  },
  {
   "cell_type": "code",
   "execution_count": 125,
   "id": "97a951c7",
   "metadata": {},
   "outputs": [
    {
     "name": "stdout",
     "output_type": "stream",
     "text": [
      "{'C': 100, 'gamma': 0.1, 'kernel': 'rbf'}\n",
      "SVC(C=100, gamma=0.1)\n"
     ]
    }
   ],
   "source": [
    "# print best parameter after tuning\n",
    "print(grid.best_params_)\n",
    "\n",
    "# print how our model looks after hyper-parameter tuning\n",
    "print(grid.best_estimator_)\n"
   ]
  },
  {
   "cell_type": "code",
   "execution_count": 123,
   "id": "05fb1166",
   "metadata": {},
   "outputs": [
    {
     "name": "stdout",
     "output_type": "stream",
     "text": [
      "              precision    recall  f1-score   support\n",
      "\n",
      "     downdog       0.94      1.00      0.97        15\n",
      "     goddess       0.92      0.75      0.83        16\n",
      "       plank       0.96      0.96      0.96        27\n",
      "        tree       0.92      0.92      0.92        24\n",
      "    warrior2       0.89      1.00      0.94        17\n",
      "\n",
      "    accuracy                           0.93        99\n",
      "   macro avg       0.93      0.93      0.92        99\n",
      "weighted avg       0.93      0.93      0.93        99\n",
      "\n"
     ]
    }
   ],
   "source": [
    "#predicting on best estimators after hyperparemeter tuning of SVM\n",
    "grid_predictions = grid.best_estimator_.predict(X_test)\n",
    "\n",
    "# print classification report\n",
    "print(classification_report(y_test, grid_predictions))"
   ]
  },
  {
   "cell_type": "markdown",
   "id": "81b78a23",
   "metadata": {},
   "source": [
    "THE ACCURACY REMAINS SAME i.e. 93%"
   ]
  },
  {
   "cell_type": "markdown",
   "id": "8fc0d9c3",
   "metadata": {},
   "source": [
    "# RANDOM FOREST MODEL"
   ]
  },
  {
   "cell_type": "code",
   "execution_count": 175,
   "id": "bf2f5ab0",
   "metadata": {},
   "outputs": [],
   "source": [
    "rf=RandomForestClassifier(n_estimators=500,random_state = 0)\n",
    "rf.fit(X_train,y_train)\n",
    "y_pred=rf.predict(X_test)"
   ]
  },
  {
   "cell_type": "code",
   "execution_count": 176,
   "id": "1ca3ed64",
   "metadata": {},
   "outputs": [
    {
     "name": "stdout",
     "output_type": "stream",
     "text": [
      "              precision    recall  f1-score   support\n",
      "\n",
      "     downdog       0.94      1.00      0.97        15\n",
      "     goddess       0.79      0.69      0.73        16\n",
      "       plank       0.96      0.96      0.96        27\n",
      "        tree       1.00      0.96      0.98        24\n",
      "    warrior2       0.74      0.82      0.78        17\n",
      "\n",
      "    accuracy                           0.90        99\n",
      "   macro avg       0.88      0.89      0.88        99\n",
      "weighted avg       0.90      0.90      0.90        99\n",
      "\n"
     ]
    }
   ],
   "source": [
    "# print classification report\n",
    "print(classification_report(y_test, y_pred))"
   ]
  },
  {
   "cell_type": "markdown",
   "id": "674123d8",
   "metadata": {},
   "source": [
    "TUNING THE RF CLASSIFIER"
   ]
  },
  {
   "cell_type": "code",
   "execution_count": 177,
   "id": "1fdcebe9",
   "metadata": {},
   "outputs": [
    {
     "name": "stdout",
     "output_type": "stream",
     "text": [
      "Fitting 2 folds for each of 72 candidates, totalling 144 fits\n"
     ]
    },
    {
     "data": {
      "text/plain": [
       "GridSearchCV(cv=2,\n",
       "             estimator=RandomForestClassifier(n_jobs=-1, oob_score=True,\n",
       "                                              random_state=1),\n",
       "             n_jobs=-1,\n",
       "             param_grid={'criterion': ['gini', 'entropy'],\n",
       "                         'max_depth': [5, 10, 20], 'min_samples_leaf': [1, 2],\n",
       "                         'min_samples_split': [5, 10],\n",
       "                         'n_estimators': [100, 200, 300]},\n",
       "             scoring='accuracy', verbose=3)"
      ]
     },
     "execution_count": 177,
     "metadata": {},
     "output_type": "execute_result"
    }
   ],
   "source": [
    "rf = RandomForestClassifier(max_features='auto', oob_score=True, random_state=1, n_jobs=-1)\n",
    "\n",
    "param_grid = {'max_depth': [5, 10, 20],              \n",
    "              \"criterion\" : [\"gini\", \"entropy\"], \n",
    "              \"min_samples_leaf\" : [1, 2], \n",
    "              \"min_samples_split\" : [5, 10], \n",
    "              \"n_estimators\" : [100,200,300]}\n",
    "\n",
    "grid = GridSearchCV(estimator=rf, param_grid=param_grid, scoring='accuracy', cv=2, n_jobs=-1, verbose = 3)\n",
    "\n",
    "#fitting the model with train dataset\n",
    "grid.fit(X_train,y_train)\n"
   ]
  },
  {
   "cell_type": "code",
   "execution_count": 178,
   "id": "32439ce6",
   "metadata": {},
   "outputs": [
    {
     "name": "stdout",
     "output_type": "stream",
     "text": [
      "{'criterion': 'gini', 'max_depth': 20, 'min_samples_leaf': 1, 'min_samples_split': 10, 'n_estimators': 200}\n",
      "RandomForestClassifier(max_depth=20, min_samples_split=10, n_estimators=200,\n",
      "                       n_jobs=-1, oob_score=True, random_state=1)\n"
     ]
    }
   ],
   "source": [
    "# print best parameter after tuning\n",
    "print(grid.best_params_)\n",
    "\n",
    "# print how our model looks after hyper-parameter tuning\n",
    "print(grid.best_estimator_)\n"
   ]
  },
  {
   "cell_type": "code",
   "execution_count": 105,
   "id": "6f53dc2a",
   "metadata": {
    "scrolled": true
   },
   "outputs": [
    {
     "name": "stdout",
     "output_type": "stream",
     "text": [
      "              precision    recall  f1-score   support\n",
      "\n",
      "     downdog       0.94      1.00      0.97        15\n",
      "     goddess       0.92      0.69      0.79        16\n",
      "       plank       0.96      0.96      0.96        27\n",
      "        tree       1.00      0.96      0.98        24\n",
      "    warrior2       0.76      0.94      0.84        17\n",
      "\n",
      "    accuracy                           0.92        99\n",
      "   macro avg       0.92      0.91      0.91        99\n",
      "weighted avg       0.93      0.92      0.92        99\n",
      "\n"
     ]
    }
   ],
   "source": [
    "grid_predictions = grid.best_estimator_.predict(X_test)\n",
    "\n",
    "# print classification report\n",
    "print(classification_report(y_test, grid_predictions))"
   ]
  },
  {
   "cell_type": "markdown",
   "id": "0386c847",
   "metadata": {},
   "source": [
    "THE ACCURACY CAME OUT TO BE 92%. HENCE BOTH THE MODELS AFTER TUNING GIVES SAME ACCURACY IN PREDICTION ON TEST DATASET.\n",
    "BUT SVM GIVES BETTER PRECISION SCORE ESPECIALLY FOR WARRIOR2 POSE IMAGES (.89) WHERE AS RF GIVES 0.76. THAT MEANS THAT SVM IS CORRECTLY CLASSIFYING POSITIVE OBSERVATIONS WITH RESPECT TO THE TOTAL PREDICTED POSITIVE OBSERVATIONS.  "
   ]
  }
 ],
 "metadata": {
  "kernelspec": {
   "display_name": "Python 3",
   "language": "python",
   "name": "python3"
  },
  "language_info": {
   "codemirror_mode": {
    "name": "ipython",
    "version": 3
   },
   "file_extension": ".py",
   "mimetype": "text/x-python",
   "name": "python",
   "nbconvert_exporter": "python",
   "pygments_lexer": "ipython3",
   "version": "3.8.8"
  }
 },
 "nbformat": 4,
 "nbformat_minor": 5
}
