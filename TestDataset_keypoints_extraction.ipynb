{
  "nbformat": 4,
  "nbformat_minor": 0,
  "metadata": {
    "kernelspec": {
      "language": "python",
      "display_name": "Python 3",
      "name": "python3"
    },
    "language_info": {
      "name": "python",
      "version": "3.7.10",
      "mimetype": "text/x-python",
      "codemirror_mode": {
        "name": "ipython",
        "version": 3
      },
      "pygments_lexer": "ipython3",
      "nbconvert_exporter": "python",
      "file_extension": ".py"
    },
    "colab": {
      "name": "TestDataset_keypoints_extraction.ipynb",
      "provenance": []
    }
  },
  "cells": [
    {
      "cell_type": "markdown",
      "metadata": {
        "id": "pClci4Y12RvO"
      },
      "source": [
        "**PERFORMING THE SAME ACTION FOR TEST DATASET(ON GOOGLE COLAB).\n",
        "DID REDUNDENT CODE FOR TEST IMAGE DATASET AS I WAS FACING ISSUES IN KAGGLE**"
      ]
    },
    {
      "cell_type": "markdown",
      "metadata": {
        "id": "wXJE_Urq3F4c"
      },
      "source": [
        "**COMMENTS GIVEN IN THE TRAIN DATASET KEYPOINTS EXTRACTION CODE**"
      ]
    },
    {
      "cell_type": "code",
      "metadata": {
        "execution": {
          "iopub.status.busy": "2021-07-22T19:42:27.754377Z",
          "iopub.execute_input": "2021-07-22T19:42:27.754750Z",
          "iopub.status.idle": "2021-07-22T19:42:27.759447Z",
          "shell.execute_reply.started": "2021-07-22T19:42:27.754717Z",
          "shell.execute_reply": "2021-07-22T19:42:27.758279Z"
        },
        "trusted": true,
        "id": "VgSnc7oplf9y"
      },
      "source": [
        "#pip install mediapipe"
      ],
      "execution_count": null,
      "outputs": []
    },
    {
      "cell_type": "code",
      "metadata": {
        "_uuid": "8f2839f25d086af736a60e9eeb907d3b93b6e0e5",
        "_cell_guid": "b1076dfc-b9ad-4769-8c92-a6c4dae69d19",
        "execution": {
          "iopub.status.busy": "2021-07-22T19:42:27.453234Z",
          "iopub.execute_input": "2021-07-22T19:42:27.453733Z",
          "iopub.status.idle": "2021-07-22T19:42:27.750510Z",
          "shell.execute_reply.started": "2021-07-22T19:42:27.453628Z",
          "shell.execute_reply": "2021-07-22T19:42:27.749384Z"
        },
        "trusted": true,
        "id": "Dl204XLOlf9w"
      },
      "source": [
        "import cv2\n",
        "import mediapipe\n",
        "import os\n",
        "import pandas as pd\n",
        "import numpy as np\n",
        "import matplotlib.pyplot as plt"
      ],
      "execution_count": null,
      "outputs": []
    },
    {
      "cell_type": "code",
      "metadata": {
        "colab": {
          "base_uri": "https://localhost:8080/"
        },
        "id": "Bth2x_fqpqQH",
        "outputId": "60f44955-61b9-4688-8c21-2739d80e7ded"
      },
      "source": [
        "import zipfile\n",
        "!unzip /content/Test.zip"
      ],
      "execution_count": null,
      "outputs": [
        {
          "output_type": "stream",
          "text": [
            "Archive:  /content/Test.zip\n",
            "   creating: Test/downdog/\n",
            "  inflating: Test/downdog/00000000.jpg  \n",
            "  inflating: Test/downdog/00000001.JPG  \n",
            "  inflating: Test/downdog/00000002.jpg  \n",
            "  inflating: Test/downdog/00000003.jpg  \n",
            "  inflating: Test/downdog/00000004.jpg  \n",
            "  inflating: Test/downdog/00000005.jpg  \n",
            "  inflating: Test/downdog/00000006.jpg  \n",
            "  inflating: Test/downdog/00000007.jpg  \n",
            "  inflating: Test/downdog/00000008.jpg  \n",
            "  inflating: Test/downdog/00000009.jpg  \n",
            "  inflating: Test/downdog/00000010.png  \n",
            "  inflating: Test/downdog/00000011.jpg  \n",
            "  inflating: Test/downdog/00000012.jpg  \n",
            "  inflating: Test/downdog/00000013.jpg  \n",
            "  inflating: Test/downdog/00000014.jpg  \n",
            "  inflating: Test/downdog/00000016.jpg  \n",
            "   creating: Test/goddess/\n",
            "  inflating: Test/goddess/00000000.jpg  \n",
            "  inflating: Test/goddess/00000001.jpg  \n",
            "  inflating: Test/goddess/00000002.jpeg  \n",
            "  inflating: Test/goddess/00000003.jpg  \n",
            "  inflating: Test/goddess/00000004.jpg  \n",
            "  inflating: Test/goddess/00000005.jpg  \n",
            "  inflating: Test/goddess/00000006.png  \n",
            "  inflating: Test/goddess/00000007.jpg  \n",
            "  inflating: Test/goddess/00000079.jpg  \n",
            "  inflating: Test/goddess/00000080.jpg  \n",
            "  inflating: Test/goddess/00000081.jpg  \n",
            "  inflating: Test/goddess/00000082.jpg  \n",
            "  inflating: Test/goddess/00000083.jpg  \n",
            "  inflating: Test/goddess/00000084.jpg  \n",
            "  inflating: Test/goddess/00000085.jpg  \n",
            "  inflating: Test/goddess/00000086.jpg  \n",
            "   creating: Test/plank/\n",
            "  inflating: Test/plank/00000054.png  \n",
            "  inflating: Test/plank/00000055.jpg  \n",
            "  inflating: Test/plank/00000063.jpg  \n",
            "  inflating: Test/plank/00000073.jpg  \n",
            "  inflating: Test/plank/00000074.jpg  \n",
            "  inflating: Test/plank/00000082.jpg  \n",
            "  inflating: Test/plank/00000083.jpeg  \n",
            "  inflating: Test/plank/00000084.jpg  \n",
            "  inflating: Test/plank/00000085.jpg  \n",
            "  inflating: Test/plank/00000087.jpg  \n",
            "  inflating: Test/plank/00000088.jpg  \n",
            "  inflating: Test/plank/00000089.jpg  \n",
            "  inflating: Test/plank/00000090.png  \n",
            "  inflating: Test/plank/00000091.jpg  \n",
            "  inflating: Test/plank/00000092.png  \n",
            "  inflating: Test/plank/00000093.jpg  \n",
            "  inflating: Test/plank/00000094.jpg  \n",
            "  inflating: Test/plank/00000095.jpg  \n",
            "  inflating: Test/plank/00000096.jpg  \n",
            "  inflating: Test/plank/00000097.jpg  \n",
            "  inflating: Test/plank/00000098.jpg  \n",
            "  inflating: Test/plank/00000099.jpg  \n",
            "  inflating: Test/plank/00000100.jpg  \n",
            "  inflating: Test/plank/00000121.jpg  \n",
            "  inflating: Test/plank/00000122.jpg  \n",
            "  inflating: Test/plank/00000123.jpg  \n",
            "  inflating: Test/plank/00000124.jpg  \n",
            "   creating: Test/tree/\n",
            "  inflating: Test/tree/00000000.jpg  \n",
            "  inflating: Test/tree/00000001.jpg  \n",
            "  inflating: Test/tree/00000002.jpg  \n",
            "  inflating: Test/tree/00000003.jpg  \n",
            "  inflating: Test/tree/00000004.jpg  \n",
            "  inflating: Test/tree/00000005.jpg  \n",
            "  inflating: Test/tree/00000006.jpg  \n",
            "  inflating: Test/tree/00000007.jpg  \n",
            "  inflating: Test/tree/00000040.jpg  \n",
            "  inflating: Test/tree/00000041.jpg  \n",
            "  inflating: Test/tree/00000042.jpg  \n",
            "  inflating: Test/tree/00000043.jpg  \n",
            "  inflating: Test/tree/00000044.jpg  \n",
            "  inflating: Test/tree/00000045.jpg  \n",
            "  inflating: Test/tree/00000046.jpg  \n",
            "  inflating: Test/tree/00000047.png  \n",
            "  inflating: Test/tree/00000048.jpg  \n",
            "  inflating: Test/tree/00000049.jpg  \n",
            "  inflating: Test/tree/00000050.jpg  \n",
            "  inflating: Test/tree/00000051.png  \n",
            "  inflating: Test/tree/00000052.jpg  \n",
            "  inflating: Test/tree/00000053.jpg  \n",
            "  inflating: Test/tree/00000055.jpg  \n",
            "  inflating: Test/tree/00000056.jpg  \n",
            "   creating: Test/warrior2/\n",
            "  inflating: Test/warrior2/00000000.jpg  \n",
            "  inflating: Test/warrior2/00000001.jpg  \n",
            "  inflating: Test/warrior2/00000002.jpg  \n",
            "  inflating: Test/warrior2/00000003.jpg  \n",
            "  inflating: Test/warrior2/00000004.jpg  \n",
            "  inflating: Test/warrior2/00000005.jpg  \n",
            "  inflating: Test/warrior2/00000006.png  \n",
            "  inflating: Test/warrior2/00000007.png  \n",
            "  inflating: Test/warrior2/00000008.jpg  \n",
            "  inflating: Test/warrior2/00000009.jpg  \n",
            "  inflating: Test/warrior2/00000010.jpg  \n",
            "  inflating: Test/warrior2/00000011.jpg  \n",
            "  inflating: Test/warrior2/00000012.jpg  \n",
            "  inflating: Test/warrior2/00000013.jpg  \n",
            "  inflating: Test/warrior2/00000014.jpg  \n",
            "  inflating: Test/warrior2/00000015.jpg  \n",
            "  inflating: Test/warrior2/00000040.jpg  \n"
          ],
          "name": "stdout"
        }
      ]
    },
    {
      "cell_type": "code",
      "metadata": {
        "execution": {
          "iopub.status.busy": "2021-07-22T19:42:27.760913Z",
          "iopub.execute_input": "2021-07-22T19:42:27.761227Z",
          "iopub.status.idle": "2021-07-22T19:42:27.774441Z",
          "shell.execute_reply.started": "2021-07-22T19:42:27.761189Z",
          "shell.execute_reply": "2021-07-22T19:42:27.773347Z"
        },
        "trusted": true,
        "id": "0NncESlllf9y"
      },
      "source": [
        "main_dir = \"/content/Test\""
      ],
      "execution_count": null,
      "outputs": []
    },
    {
      "cell_type": "code",
      "metadata": {
        "execution": {
          "iopub.status.busy": "2021-07-22T19:42:27.776319Z",
          "iopub.execute_input": "2021-07-22T19:42:27.776707Z",
          "iopub.status.idle": "2021-07-22T19:42:27.794128Z",
          "shell.execute_reply.started": "2021-07-22T19:42:27.776675Z",
          "shell.execute_reply": "2021-07-22T19:42:27.792899Z"
        },
        "trusted": true,
        "colab": {
          "base_uri": "https://localhost:8080/"
        },
        "id": "23bjE0Hclf9y",
        "outputId": "419e9e91-e0d6-4bd9-c94c-9a19fd889bcc"
      },
      "source": [
        "DICT = {\n",
        "    \"downdog\": 0,\n",
        "    \"goddess\":1,       \n",
        "    \"plank\":2,\n",
        "    \"tree\":3,\n",
        "    \"warrior2\":4\n",
        "}\n",
        "DICT"
      ],
      "execution_count": null,
      "outputs": [
        {
          "output_type": "execute_result",
          "data": {
            "text/plain": [
              "{'downdog': 0, 'goddess': 1, 'plank': 2, 'tree': 3, 'warrior2': 4}"
            ]
          },
          "metadata": {
            "tags": []
          },
          "execution_count": 6
        }
      ]
    },
    {
      "cell_type": "code",
      "metadata": {
        "execution": {
          "iopub.status.busy": "2021-07-22T19:42:27.795524Z",
          "iopub.execute_input": "2021-07-22T19:42:27.795874Z",
          "iopub.status.idle": "2021-07-22T19:42:27.809443Z",
          "shell.execute_reply.started": "2021-07-22T19:42:27.795787Z",
          "shell.execute_reply": "2021-07-22T19:42:27.808456Z"
        },
        "trusted": true,
        "id": "dacJlcAalf9z"
      },
      "source": [
        "def getdata(folder_path):\n",
        "    sig = pd.DataFrame(columns=['image_abs_path','image_labels'])\n",
        "    for key,value in DICT.items():\n",
        "        #print(\"processing for label: {}\".format(label))\n",
        "        label_i = folder_path+\"/\"+str(key)\n",
        "        #read directory\n",
        "        dirs_label_i =  os.listdir(label_i)\n",
        "        idx = 0\n",
        "        for image in dirs_label_i:\n",
        "            #create a absolute image path\n",
        "            sig_i = os.path.join(label_i,image)\n",
        "            #print('Absolute path for image no. {} and label {}: {}'\\\n",
        "                  #.format(idx,label,flower_i))\n",
        "\n",
        "            #fill the dataframe with path and label\n",
        "            sig = sig.append({'image_abs_path':sig_i,\n",
        "                            'image_labels':key},\n",
        "                           ignore_index=True)\n",
        "            idx += 1\n",
        "            \n",
        "    return sig"
      ],
      "execution_count": null,
      "outputs": []
    },
    {
      "cell_type": "code",
      "metadata": {
        "execution": {
          "iopub.status.busy": "2021-07-22T19:42:27.810787Z",
          "iopub.execute_input": "2021-07-22T19:42:27.811431Z",
          "iopub.status.idle": "2021-07-22T19:42:30.337213Z",
          "shell.execute_reply.started": "2021-07-22T19:42:27.811365Z",
          "shell.execute_reply": "2021-07-22T19:42:30.336143Z"
        },
        "trusted": true,
        "colab": {
          "base_uri": "https://localhost:8080/",
          "height": 551
        },
        "id": "5gtP48v1lf9z",
        "outputId": "db382184-812c-415c-94c7-7c57b3824f71"
      },
      "source": [
        "test = getdata(main_dir)\n",
        "test[test[\"image_labels\"]==\"downdog\"]"
      ],
      "execution_count": null,
      "outputs": [
        {
          "output_type": "execute_result",
          "data": {
            "text/html": [
              "<div>\n",
              "<style scoped>\n",
              "    .dataframe tbody tr th:only-of-type {\n",
              "        vertical-align: middle;\n",
              "    }\n",
              "\n",
              "    .dataframe tbody tr th {\n",
              "        vertical-align: top;\n",
              "    }\n",
              "\n",
              "    .dataframe thead th {\n",
              "        text-align: right;\n",
              "    }\n",
              "</style>\n",
              "<table border=\"1\" class=\"dataframe\">\n",
              "  <thead>\n",
              "    <tr style=\"text-align: right;\">\n",
              "      <th></th>\n",
              "      <th>image_abs_path</th>\n",
              "      <th>image_labels</th>\n",
              "    </tr>\n",
              "  </thead>\n",
              "  <tbody>\n",
              "    <tr>\n",
              "      <th>0</th>\n",
              "      <td>/content/Test/downdog/00000003.jpg</td>\n",
              "      <td>downdog</td>\n",
              "    </tr>\n",
              "    <tr>\n",
              "      <th>1</th>\n",
              "      <td>/content/Test/downdog/00000006.jpg</td>\n",
              "      <td>downdog</td>\n",
              "    </tr>\n",
              "    <tr>\n",
              "      <th>2</th>\n",
              "      <td>/content/Test/downdog/00000000.jpg</td>\n",
              "      <td>downdog</td>\n",
              "    </tr>\n",
              "    <tr>\n",
              "      <th>3</th>\n",
              "      <td>/content/Test/downdog/00000004.jpg</td>\n",
              "      <td>downdog</td>\n",
              "    </tr>\n",
              "    <tr>\n",
              "      <th>4</th>\n",
              "      <td>/content/Test/downdog/00000007.jpg</td>\n",
              "      <td>downdog</td>\n",
              "    </tr>\n",
              "    <tr>\n",
              "      <th>5</th>\n",
              "      <td>/content/Test/downdog/00000001.JPG</td>\n",
              "      <td>downdog</td>\n",
              "    </tr>\n",
              "    <tr>\n",
              "      <th>6</th>\n",
              "      <td>/content/Test/downdog/00000010.png</td>\n",
              "      <td>downdog</td>\n",
              "    </tr>\n",
              "    <tr>\n",
              "      <th>7</th>\n",
              "      <td>/content/Test/downdog/00000016.jpg</td>\n",
              "      <td>downdog</td>\n",
              "    </tr>\n",
              "    <tr>\n",
              "      <th>8</th>\n",
              "      <td>/content/Test/downdog/00000009.jpg</td>\n",
              "      <td>downdog</td>\n",
              "    </tr>\n",
              "    <tr>\n",
              "      <th>9</th>\n",
              "      <td>/content/Test/downdog/00000002.jpg</td>\n",
              "      <td>downdog</td>\n",
              "    </tr>\n",
              "    <tr>\n",
              "      <th>10</th>\n",
              "      <td>/content/Test/downdog/00000013.jpg</td>\n",
              "      <td>downdog</td>\n",
              "    </tr>\n",
              "    <tr>\n",
              "      <th>11</th>\n",
              "      <td>/content/Test/downdog/00000005.jpg</td>\n",
              "      <td>downdog</td>\n",
              "    </tr>\n",
              "    <tr>\n",
              "      <th>12</th>\n",
              "      <td>/content/Test/downdog/00000011.jpg</td>\n",
              "      <td>downdog</td>\n",
              "    </tr>\n",
              "    <tr>\n",
              "      <th>13</th>\n",
              "      <td>/content/Test/downdog/00000012.jpg</td>\n",
              "      <td>downdog</td>\n",
              "    </tr>\n",
              "    <tr>\n",
              "      <th>14</th>\n",
              "      <td>/content/Test/downdog/00000014.jpg</td>\n",
              "      <td>downdog</td>\n",
              "    </tr>\n",
              "    <tr>\n",
              "      <th>15</th>\n",
              "      <td>/content/Test/downdog/00000008.jpg</td>\n",
              "      <td>downdog</td>\n",
              "    </tr>\n",
              "  </tbody>\n",
              "</table>\n",
              "</div>"
            ],
            "text/plain": [
              "                        image_abs_path image_labels\n",
              "0   /content/Test/downdog/00000003.jpg      downdog\n",
              "1   /content/Test/downdog/00000006.jpg      downdog\n",
              "2   /content/Test/downdog/00000000.jpg      downdog\n",
              "3   /content/Test/downdog/00000004.jpg      downdog\n",
              "4   /content/Test/downdog/00000007.jpg      downdog\n",
              "5   /content/Test/downdog/00000001.JPG      downdog\n",
              "6   /content/Test/downdog/00000010.png      downdog\n",
              "7   /content/Test/downdog/00000016.jpg      downdog\n",
              "8   /content/Test/downdog/00000009.jpg      downdog\n",
              "9   /content/Test/downdog/00000002.jpg      downdog\n",
              "10  /content/Test/downdog/00000013.jpg      downdog\n",
              "11  /content/Test/downdog/00000005.jpg      downdog\n",
              "12  /content/Test/downdog/00000011.jpg      downdog\n",
              "13  /content/Test/downdog/00000012.jpg      downdog\n",
              "14  /content/Test/downdog/00000014.jpg      downdog\n",
              "15  /content/Test/downdog/00000008.jpg      downdog"
            ]
          },
          "metadata": {
            "tags": []
          },
          "execution_count": 8
        }
      ]
    },
    {
      "cell_type": "code",
      "metadata": {
        "execution": {
          "iopub.status.busy": "2021-07-22T19:42:30.338690Z",
          "iopub.execute_input": "2021-07-22T19:42:30.339004Z",
          "iopub.status.idle": "2021-07-22T19:42:30.345792Z",
          "shell.execute_reply.started": "2021-07-22T19:42:30.338976Z",
          "shell.execute_reply": "2021-07-22T19:42:30.344538Z"
        },
        "trusted": true,
        "id": "6Xdk-5-Hlf9z"
      },
      "source": [
        "def getKeyPts(imgpath):\n",
        "       #import cv2\n",
        "       #import mediapipe     #uses RGB\n",
        "       #import time\n",
        "\n",
        "       modelPose = mediapipe.solutions.pose\n",
        "       #mpDraw = mediapipe.solutions.drawing_utils\n",
        "       pose = modelPose.Pose()\n",
        "       mp_holistic = mediapipe.solutions.holistic\n",
        "       #visit media pipe for landmark labels\n",
        "       #https://google.github.io/mediapipe/solutions/pose#static_image_mode\n",
        "       img = cv2.imread(imgpath)  #path to ur video instead of 0\n",
        "       frameRGB = cv2.cvtColor(img,cv2.COLOR_BGR2RGB)\n",
        "       results = pose.process(frameRGB)\n",
        "#        print(f\"landmarks :{results.pose_landmarks}\")\n",
        "#        print(\n",
        "#            f'Nose coordinates: ('\n",
        "#            f'{results.pose_landmarks.landmark[mp_holistic.PoseLandmark.NOSE].x * frame.shape[0]}, '\n",
        "#            f'{results.pose_landmarks.landmark[mp_holistic.PoseLandmark.NOSE].y * frame.shape[1]})')\n",
        "\n",
        "#        if results.pose_landmarks:\n",
        "           #mpDraw.draw_landmarks(img,results.pose_landmarks,modelPose.POSE_CONNECTIONS)\n",
        "#            for id,keyPts in enumerate(results.pose_landmarks.landmark):\n",
        "#                h,w,c = img.shape\n",
        "#                print(id,keyPts)\n",
        "#                cx,cy = int(keyPts.x*w),int(keyPts.y*h)\n",
        "#                cv2.circle(img,(cx,cy),3,(255,0,255),-1)\n",
        "\n",
        "           #plt.imshow(img)\n",
        "           #plt.show()\n",
        "\n",
        "       return results.pose_landmarks"
      ],
      "execution_count": null,
      "outputs": []
    },
    {
      "cell_type": "code",
      "metadata": {
        "execution": {
          "iopub.status.busy": "2021-07-22T19:42:30.347729Z",
          "iopub.execute_input": "2021-07-22T19:42:30.348069Z",
          "iopub.status.idle": "2021-07-22T19:42:30.368758Z",
          "shell.execute_reply.started": "2021-07-22T19:42:30.348036Z",
          "shell.execute_reply": "2021-07-22T19:42:30.367760Z"
        },
        "trusted": true,
        "id": "7X7QlH1Tlf90"
      },
      "source": [
        "key_points = ['Nose','Left_eye_inner','Left_eye','Left_eye_outer','right_eye_inner',\n",
        "              'right_eye','right_eye_outer','left_ear','right_ear','mouth_left',\n",
        "              'mouth_right','lef_shoulder','right_shoulder','lef_elbow','right_elbow',\n",
        "              'left_wrist','right_wrist','left_pinky','right_pinky','left_index',\n",
        "              'right_index','left_thumb','right_thumb','left_hip','right_hip',\n",
        "              'left_knee','right_knee','left_ankle','right_ankle',\n",
        "              'left_heel','right_heel','left_foot_index','right_foot_index']"
      ],
      "execution_count": null,
      "outputs": []
    },
    {
      "cell_type": "code",
      "metadata": {
        "execution": {
          "iopub.status.busy": "2021-07-22T19:42:34.318365Z",
          "iopub.execute_input": "2021-07-22T19:42:34.319013Z",
          "iopub.status.idle": "2021-07-22T19:42:34.329242Z",
          "shell.execute_reply.started": "2021-07-22T19:42:34.318973Z",
          "shell.execute_reply": "2021-07-22T19:42:34.328463Z"
        },
        "trusted": true,
        "id": "uaN0bKyUlf90"
      },
      "source": [
        "def yoga(pose,limit):\n",
        "    global key_points,DICT\n",
        "    counter = 0\n",
        "    header = {\"pose\":[]}\n",
        "    for key_point in key_points:\n",
        "        header['{} x'.format(key_point)] = []\n",
        "        header['{} y'.format(key_point)] = []\n",
        "        \n",
        "    ################################################\n",
        "    for pose in [pose]:\n",
        "        df = pd.DataFrame(header)\n",
        "        print('Generating results for {}'.format(pose))\n",
        "        filtrdata = test[test[\"image_labels\"]==pose]\n",
        "\n",
        "    ##################################################\n",
        "        for row in filtrdata['image_abs_path']:\n",
        "            if counter <= limit:\n",
        "                print(f\"Count {counter} : {row}\")\n",
        "\n",
        "                keypoints = getKeyPts(row)\n",
        "                new_row = pd.DataFrame(header)\n",
        "                try:\n",
        "                    for id,keyPts in enumerate(keypoints.landmark):\n",
        "                        #h,w,c = img.shape\n",
        "                        #print(id,keyPts)\n",
        "                        cx,cy = (keyPts.x*1),(keyPts.y*1)\n",
        "                        #print(f\"({cx},{cy}) for {id}\")\n",
        "                        #print(key_points[id])\n",
        "                        #print(f\"({cx},{cy})\")\n",
        "                        new_row['{} x'.format(key_points[id])] = [cx]\n",
        "                        new_row['{} y'.format(key_points[id])] = [cy]\n",
        "                        #print(new_row)\n",
        "                    new_row['pose'] = pose\n",
        "                    df = df.append(new_row, ignore_index=True)\n",
        "                    #print(df)\n",
        "                    counter += 1\n",
        "\n",
        "                except Exception as e:\n",
        "                    print('Exception on {}! {}'.format(row, e))\n",
        "            else:\n",
        "                continue\n",
        "        print(\"Saving csv file.....\")\n",
        "        df.to_csv('{}.csv'.format(pose))\n",
        "        counter = 0"
      ],
      "execution_count": null,
      "outputs": []
    },
    {
      "cell_type": "code",
      "metadata": {
        "execution": {
          "iopub.status.busy": "2021-07-22T19:36:27.135644Z",
          "iopub.execute_input": "2021-07-22T19:36:27.135992Z",
          "iopub.status.idle": "2021-07-22T19:36:39.422573Z",
          "shell.execute_reply.started": "2021-07-22T19:36:27.135930Z",
          "shell.execute_reply": "2021-07-22T19:36:39.421499Z"
        },
        "trusted": true,
        "colab": {
          "base_uri": "https://localhost:8080/"
        },
        "id": "8vxVV3eslf91",
        "outputId": "a278f229-9816-486b-f92b-34178d029892"
      },
      "source": [
        "yoga(pose=\"downdog\",limit=50)"
      ],
      "execution_count": null,
      "outputs": [
        {
          "output_type": "stream",
          "text": [
            "Generating results for downdog\n",
            "Count 0 : /content/Test/downdog/00000003.jpg\n",
            "Count 1 : /content/Test/downdog/00000006.jpg\n",
            "Count 2 : /content/Test/downdog/00000000.jpg\n",
            "Count 3 : /content/Test/downdog/00000004.jpg\n",
            "Count 4 : /content/Test/downdog/00000007.jpg\n",
            "Count 5 : /content/Test/downdog/00000001.JPG\n",
            "Count 6 : /content/Test/downdog/00000010.png\n",
            "Exception on /content/Test/downdog/00000010.png! 'NoneType' object has no attribute 'landmark'\n",
            "Count 6 : /content/Test/downdog/00000016.jpg\n",
            "Count 7 : /content/Test/downdog/00000009.jpg\n",
            "Count 8 : /content/Test/downdog/00000002.jpg\n",
            "Count 9 : /content/Test/downdog/00000013.jpg\n",
            "Count 10 : /content/Test/downdog/00000005.jpg\n",
            "Count 11 : /content/Test/downdog/00000011.jpg\n",
            "Count 12 : /content/Test/downdog/00000012.jpg\n",
            "Count 13 : /content/Test/downdog/00000014.jpg\n",
            "Count 14 : /content/Test/downdog/00000008.jpg\n",
            "Saving csv file.....\n"
          ],
          "name": "stdout"
        }
      ]
    },
    {
      "cell_type": "code",
      "metadata": {
        "execution": {
          "iopub.status.busy": "2021-07-22T19:40:30.705666Z",
          "iopub.execute_input": "2021-07-22T19:40:30.706284Z"
        },
        "jupyter": {
          "outputs_hidden": true
        },
        "trusted": true,
        "colab": {
          "base_uri": "https://localhost:8080/"
        },
        "id": "NtJ9jwLClf91",
        "outputId": "ad6ccd9f-9d02-48a8-a0c0-e119ae1b3a8b"
      },
      "source": [
        "pose = [x for x,y in DICT.items()]\n",
        "for i in range(1,len(pose)):\n",
        "    yoga(pose=pose[i],limit=50)"
      ],
      "execution_count": null,
      "outputs": [
        {
          "output_type": "stream",
          "text": [
            "Generating results for goddess\n",
            "Count 0 : /content/Test/goddess/00000082.jpg\n",
            "Count 1 : /content/Test/goddess/00000003.jpg\n",
            "Count 2 : /content/Test/goddess/00000086.jpg\n",
            "Count 3 : /content/Test/goddess/00000080.jpg\n",
            "Count 4 : /content/Test/goddess/00000000.jpg\n",
            "Count 5 : /content/Test/goddess/00000004.jpg\n",
            "Count 6 : /content/Test/goddess/00000007.jpg\n",
            "Count 7 : /content/Test/goddess/00000081.jpg\n",
            "Count 8 : /content/Test/goddess/00000001.jpg\n",
            "Count 9 : /content/Test/goddess/00000006.png\n",
            "Count 10 : /content/Test/goddess/00000079.jpg\n",
            "Count 11 : /content/Test/goddess/00000005.jpg\n",
            "Count 12 : /content/Test/goddess/00000085.jpg\n",
            "Count 13 : /content/Test/goddess/00000002.jpeg\n",
            "Count 14 : /content/Test/goddess/00000083.jpg\n",
            "Count 15 : /content/Test/goddess/00000084.jpg\n",
            "Saving csv file.....\n",
            "Generating results for plank\n",
            "Count 0 : /content/Test/plank/00000082.jpg\n",
            "Count 1 : /content/Test/plank/00000097.jpg\n",
            "Count 2 : /content/Test/plank/00000122.jpg\n",
            "Count 3 : /content/Test/plank/00000091.jpg\n",
            "Count 4 : /content/Test/plank/00000074.jpg\n",
            "Count 5 : /content/Test/plank/00000090.png\n",
            "Count 6 : /content/Test/plank/00000088.jpg\n",
            "Count 7 : /content/Test/plank/00000055.jpg\n",
            "Count 8 : /content/Test/plank/00000087.jpg\n",
            "Count 9 : /content/Test/plank/00000094.jpg\n",
            "Count 10 : /content/Test/plank/00000063.jpg\n",
            "Count 11 : /content/Test/plank/00000093.jpg\n",
            "Count 12 : /content/Test/plank/00000098.jpg\n",
            "Count 13 : /content/Test/plank/00000096.jpg\n",
            "Count 14 : /content/Test/plank/00000083.jpeg\n",
            "Count 15 : /content/Test/plank/00000099.jpg\n",
            "Count 16 : /content/Test/plank/00000124.jpg\n",
            "Count 17 : /content/Test/plank/00000089.jpg\n",
            "Count 18 : /content/Test/plank/00000085.jpg\n",
            "Count 19 : /content/Test/plank/00000092.png\n",
            "Count 20 : /content/Test/plank/00000054.png\n",
            "Count 21 : /content/Test/plank/00000095.jpg\n",
            "Count 22 : /content/Test/plank/00000073.jpg\n",
            "Count 23 : /content/Test/plank/00000121.jpg\n",
            "Count 24 : /content/Test/plank/00000084.jpg\n",
            "Count 25 : /content/Test/plank/00000123.jpg\n",
            "Count 26 : /content/Test/plank/00000100.jpg\n",
            "Saving csv file.....\n",
            "Generating results for tree\n",
            "Count 0 : /content/Test/tree/00000056.jpg\n",
            "Count 1 : /content/Test/tree/00000052.jpg\n",
            "Count 2 : /content/Test/tree/00000003.jpg\n",
            "Count 3 : /content/Test/tree/00000006.jpg\n",
            "Count 4 : /content/Test/tree/00000000.jpg\n",
            "Count 5 : /content/Test/tree/00000044.jpg\n",
            "Count 6 : /content/Test/tree/00000048.jpg\n",
            "Count 7 : /content/Test/tree/00000050.jpg\n",
            "Count 8 : /content/Test/tree/00000055.jpg\n",
            "Count 9 : /content/Test/tree/00000004.jpg\n",
            "Count 10 : /content/Test/tree/00000047.png\n",
            "Count 11 : /content/Test/tree/00000007.jpg\n",
            "Count 12 : /content/Test/tree/00000051.png\n",
            "Count 13 : /content/Test/tree/00000041.jpg\n",
            "Count 14 : /content/Test/tree/00000001.jpg\n",
            "Count 15 : /content/Test/tree/00000040.jpg\n",
            "Count 16 : /content/Test/tree/00000002.jpg\n",
            "Count 17 : /content/Test/tree/00000045.jpg\n",
            "Count 18 : /content/Test/tree/00000042.jpg\n",
            "Count 19 : /content/Test/tree/00000005.jpg\n",
            "Count 20 : /content/Test/tree/00000053.jpg\n",
            "Count 21 : /content/Test/tree/00000046.jpg\n",
            "Count 22 : /content/Test/tree/00000049.jpg\n",
            "Count 23 : /content/Test/tree/00000043.jpg\n",
            "Saving csv file.....\n",
            "Generating results for warrior2\n",
            "Count 0 : /content/Test/warrior2/00000007.png\n",
            "Count 1 : /content/Test/warrior2/00000003.jpg\n",
            "Count 2 : /content/Test/warrior2/00000000.jpg\n",
            "Count 3 : /content/Test/warrior2/00000010.jpg\n",
            "Count 4 : /content/Test/warrior2/00000004.jpg\n",
            "Count 5 : /content/Test/warrior2/00000009.jpg\n",
            "Count 6 : /content/Test/warrior2/00000001.jpg\n",
            "Count 7 : /content/Test/warrior2/00000040.jpg\n",
            "Count 8 : /content/Test/warrior2/00000002.jpg\n",
            "Count 9 : /content/Test/warrior2/00000006.png\n",
            "Count 10 : /content/Test/warrior2/00000013.jpg\n",
            "Count 11 : /content/Test/warrior2/00000015.jpg\n",
            "Count 12 : /content/Test/warrior2/00000005.jpg\n",
            "Count 13 : /content/Test/warrior2/00000011.jpg\n",
            "Count 14 : /content/Test/warrior2/00000012.jpg\n",
            "Count 15 : /content/Test/warrior2/00000014.jpg\n",
            "Count 16 : /content/Test/warrior2/00000008.jpg\n",
            "Saving csv file.....\n"
          ],
          "name": "stdout"
        }
      ]
    },
    {
      "cell_type": "code",
      "metadata": {
        "execution": {
          "iopub.status.busy": "2021-07-22T19:42:46.535726Z",
          "iopub.execute_input": "2021-07-22T19:42:46.536282Z",
          "iopub.status.idle": "2021-07-22T19:42:46.542411Z",
          "shell.execute_reply.started": "2021-07-22T19:42:46.536230Z",
          "shell.execute_reply": "2021-07-22T19:42:46.541489Z"
        },
        "trusted": true,
        "colab": {
          "base_uri": "https://localhost:8080/"
        },
        "id": "bLARTO6Ulf91",
        "outputId": "09903443-75e0-49f3-f70b-f3ffd75f9649"
      },
      "source": [
        "pose = [x for x,y in DICT.items()]\n",
        "pose"
      ],
      "execution_count": null,
      "outputs": [
        {
          "output_type": "execute_result",
          "data": {
            "text/plain": [
              "['downdog', 'goddess', 'plank', 'tree', 'warrior2']"
            ]
          },
          "metadata": {
            "tags": []
          },
          "execution_count": 16
        }
      ]
    },
    {
      "cell_type": "code",
      "metadata": {
        "execution": {
          "iopub.status.busy": "2021-07-22T19:43:17.109197Z",
          "iopub.execute_input": "2021-07-22T19:43:17.109753Z",
          "iopub.status.idle": "2021-07-22T19:43:28.347243Z",
          "shell.execute_reply.started": "2021-07-22T19:43:17.109718Z",
          "shell.execute_reply": "2021-07-22T19:43:28.345769Z"
        },
        "trusted": true,
        "colab": {
          "base_uri": "https://localhost:8080/"
        },
        "id": "zAnoQ7fYlf92",
        "outputId": "4975aec2-9bf9-4943-a666-866d33df84b3"
      },
      "source": [
        "yoga(pose=\"warrior2\",limit=50)"
      ],
      "execution_count": null,
      "outputs": [
        {
          "output_type": "stream",
          "text": [
            "Generating results for warrior2\n",
            "Count 0 : /content/Test/warrior2/00000007.png\n",
            "Count 1 : /content/Test/warrior2/00000003.jpg\n",
            "Count 2 : /content/Test/warrior2/00000000.jpg\n",
            "Count 3 : /content/Test/warrior2/00000010.jpg\n",
            "Count 4 : /content/Test/warrior2/00000004.jpg\n",
            "Count 5 : /content/Test/warrior2/00000009.jpg\n",
            "Count 6 : /content/Test/warrior2/00000001.jpg\n",
            "Count 7 : /content/Test/warrior2/00000040.jpg\n",
            "Count 8 : /content/Test/warrior2/00000002.jpg\n",
            "Count 9 : /content/Test/warrior2/00000006.png\n",
            "Count 10 : /content/Test/warrior2/00000013.jpg\n",
            "Count 11 : /content/Test/warrior2/00000015.jpg\n",
            "Count 12 : /content/Test/warrior2/00000005.jpg\n",
            "Count 13 : /content/Test/warrior2/00000011.jpg\n",
            "Count 14 : /content/Test/warrior2/00000012.jpg\n",
            "Count 15 : /content/Test/warrior2/00000014.jpg\n",
            "Count 16 : /content/Test/warrior2/00000008.jpg\n",
            "Saving csv file.....\n"
          ],
          "name": "stdout"
        }
      ]
    },
    {
      "cell_type": "code",
      "metadata": {
        "id": "bb6BIr1tlf92"
      },
      "source": [
        ""
      ],
      "execution_count": null,
      "outputs": []
    }
  ]
}